{
 "cells": [
  {
   "cell_type": "markdown",
   "metadata": {},
   "source": [
    "# WeatherPy\n",
    "----\n",
    "\n",
    "#### Note\n",
    "* Instructions have been included for each segment. You do not have to follow them exactly, but they are included to help you think through the steps."
   ]
  },
  {
   "cell_type": "code",
   "execution_count": 125,
   "metadata": {
    "scrolled": true
   },
   "outputs": [],
   "source": [
    "# Dependencies and Setup\n",
    "import matplotlib.pyplot as plt\n",
    "import pandas as pd\n",
    "import numpy as np\n",
    "import requests\n",
    "import time\n",
    "from scipy.stats import linregress\n",
    "# Import API key\n",
    "from api_keys import weather_api_key\n",
    "\n",
    "# Incorporated citipy to determine city based on latitude and longitude\n",
    "from citipy import citipy\n",
    "\n",
    "# Output File (CSV)\n",
    "output_data_file = \"output_data/cities.csv\"\n",
    "\n",
    "# Range of latitudes and longitudes\n",
    "lat_range = (-90, 90)\n",
    "lng_range = (-180, 180)"
   ]
  },
  {
   "cell_type": "markdown",
   "metadata": {},
   "source": [
    "## Generate Cities List"
   ]
  },
  {
   "cell_type": "code",
   "execution_count": 126,
   "metadata": {},
   "outputs": [
    {
     "data": {
      "text/plain": [
       "610"
      ]
     },
     "execution_count": 126,
     "metadata": {},
     "output_type": "execute_result"
    }
   ],
   "source": [
    "# List for holding lat_lngs and cities\n",
    "lat_lngs = []\n",
    "cities = []\n",
    "\n",
    "# Create a set of random lat and lng combinations\n",
    "lats = np.random.uniform(lat_range[0], lat_range[1], size=1500)\n",
    "lngs = np.random.uniform(lng_range[0], lng_range[1], size=1500)\n",
    "lat_lngs = zip(lats, lngs)\n",
    "\n",
    "# Identify nearest city for each lat, lng combination\n",
    "for lat_lng in lat_lngs:\n",
    "    city = citipy.nearest_city(lat_lng[0], lat_lng[1]).city_name\n",
    "    \n",
    "    # If the city is unique, then add it to a our cities list\n",
    "    if city not in cities:\n",
    "        cities.append(city)\n",
    "\n",
    "# Print the city count to confirm sufficient count\n",
    "len(cities)\n",
    "\n"
   ]
  },
  {
   "cell_type": "markdown",
   "metadata": {},
   "source": [
    "### Perform API Calls\n",
    "* Perform a weather check on each city using a series of successive API calls.\n",
    "* Include a print log of each city as it'sbeing processed (with the city number and city name).\n"
   ]
  },
  {
   "cell_type": "code",
   "execution_count": 129,
   "metadata": {
    "scrolled": true
   },
   "outputs": [
    {
     "name": "stdout",
     "output_type": "stream",
     "text": [
      "tocopilla\n",
      "yuxia\n",
      "tasiilaq\n",
      "acapulco\n",
      "upernavik\n",
      "thompson\n",
      "bluff\n",
      "punta arenas\n",
      "chuy\n",
      "rikitea\n",
      "dikson\n",
      "longyearbyen\n",
      "guerrero negro\n",
      "carnarvon\n",
      "anadyr\n",
      "airai\n",
      "lancaster\n",
      "businga\n",
      "epe\n",
      "cotonou\n",
      "hilo\n",
      "birao\n",
      "qaanaaq\n",
      "gardendale\n",
      "bay roberts\n",
      "mataura\n",
      "constitucion\n",
      "ushuaia\n",
      "bollnas\n",
      "pevek\n",
      "iqaluit\n",
      "tautira\n",
      "barrow\n",
      "arraial do cabo\n",
      "busselton\n",
      "albanel\n",
      "bethel\n",
      "olga\n",
      "saint anthony\n",
      "arkhangelsk\n",
      "ancud\n",
      "city not found\n",
      "rio gallegos\n",
      "tuktoyaktuk\n",
      "hambantota\n",
      "san patricio\n",
      "hobart\n",
      "leningradskiy\n",
      "mahebourg\n",
      "prainha\n"
     ]
    }
   ],
   "source": [
    "#url=http://api.openweathermap.org/data/2.5/weather?appid=9e8ad36944a36af2b33e09daa8e352bb&units=metric&q=\n",
    "url=\"http://api.openweathermap.org/data/2.5/weather?\"\n",
    "units=\"metric\"\n",
    "lat= []\n",
    "temp=[]\n",
    "cityname=[]\n",
    "humidity=[]\n",
    "clouds=[]\n",
    "windspeed=[]\n",
    "\n",
    "#Query URL\n",
    "query_url= f\"{url}appid={weather_api_key}&units={units}&q=\"\n",
    "for city in cities[:50]:\n",
    "    \n",
    "    \n",
    "    try:\n",
    "        response = requests.get(query_url+city).json()\n",
    "        lat.append(response['coord']['lat'])\n",
    "        temp.append(response['main']['temp'])\n",
    "        cityname.append(city)\n",
    "        humidity.append(response['main']['humidity'])\n",
    "        clouds.append(response['clouds']['all'])\n",
    "        windspeed.append(response['wind']['speed'])\n",
    "        \n",
    "        print(city)\n",
    "    except:\n",
    "        print(\"city not found\")\n",
    "        pass\n",
    "  \n"
   ]
  },
  {
   "cell_type": "code",
   "execution_count": null,
   "metadata": {},
   "outputs": [],
   "source": []
  },
  {
   "cell_type": "markdown",
   "metadata": {},
   "source": [
    "### Convert Raw Data to DataFrame\n",
    "* Export the city data into a .csv.\n",
    "* Display the DataFrame"
   ]
  },
  {
   "cell_type": "code",
   "execution_count": 131,
   "metadata": {},
   "outputs": [
    {
     "data": {
      "text/html": [
       "<div>\n",
       "<style scoped>\n",
       "    .dataframe tbody tr th:only-of-type {\n",
       "        vertical-align: middle;\n",
       "    }\n",
       "\n",
       "    .dataframe tbody tr th {\n",
       "        vertical-align: top;\n",
       "    }\n",
       "\n",
       "    .dataframe thead th {\n",
       "        text-align: right;\n",
       "    }\n",
       "</style>\n",
       "<table border=\"1\" class=\"dataframe\">\n",
       "  <thead>\n",
       "    <tr style=\"text-align: right;\">\n",
       "      <th></th>\n",
       "      <th>City</th>\n",
       "      <th>Latitude</th>\n",
       "      <th>Temperature</th>\n",
       "      <th>Humidity</th>\n",
       "      <th>Cloudiness</th>\n",
       "      <th>Wind Speed</th>\n",
       "    </tr>\n",
       "  </thead>\n",
       "  <tbody>\n",
       "    <tr>\n",
       "      <th>0</th>\n",
       "      <td>tocopilla</td>\n",
       "      <td>-22.0920</td>\n",
       "      <td>19.10</td>\n",
       "      <td>73</td>\n",
       "      <td>13</td>\n",
       "      <td>1.51</td>\n",
       "    </tr>\n",
       "    <tr>\n",
       "      <th>1</th>\n",
       "      <td>yuxia</td>\n",
       "      <td>34.0615</td>\n",
       "      <td>7.00</td>\n",
       "      <td>87</td>\n",
       "      <td>0</td>\n",
       "      <td>1.00</td>\n",
       "    </tr>\n",
       "    <tr>\n",
       "      <th>2</th>\n",
       "      <td>tasiilaq</td>\n",
       "      <td>65.6145</td>\n",
       "      <td>3.00</td>\n",
       "      <td>70</td>\n",
       "      <td>75</td>\n",
       "      <td>4.12</td>\n",
       "    </tr>\n",
       "    <tr>\n",
       "      <th>3</th>\n",
       "      <td>acapulco</td>\n",
       "      <td>16.8634</td>\n",
       "      <td>29.00</td>\n",
       "      <td>74</td>\n",
       "      <td>1</td>\n",
       "      <td>4.63</td>\n",
       "    </tr>\n",
       "    <tr>\n",
       "      <th>4</th>\n",
       "      <td>upernavik</td>\n",
       "      <td>72.7868</td>\n",
       "      <td>-0.34</td>\n",
       "      <td>87</td>\n",
       "      <td>71</td>\n",
       "      <td>7.88</td>\n",
       "    </tr>\n",
       "    <tr>\n",
       "      <th>5</th>\n",
       "      <td>thompson</td>\n",
       "      <td>55.7435</td>\n",
       "      <td>-3.00</td>\n",
       "      <td>50</td>\n",
       "      <td>75</td>\n",
       "      <td>8.23</td>\n",
       "    </tr>\n",
       "    <tr>\n",
       "      <th>6</th>\n",
       "      <td>bluff</td>\n",
       "      <td>-46.6000</td>\n",
       "      <td>10.56</td>\n",
       "      <td>79</td>\n",
       "      <td>100</td>\n",
       "      <td>1.79</td>\n",
       "    </tr>\n",
       "    <tr>\n",
       "      <th>7</th>\n",
       "      <td>punta arenas</td>\n",
       "      <td>-53.1500</td>\n",
       "      <td>6.83</td>\n",
       "      <td>93</td>\n",
       "      <td>90</td>\n",
       "      <td>6.17</td>\n",
       "    </tr>\n",
       "    <tr>\n",
       "      <th>8</th>\n",
       "      <td>chuy</td>\n",
       "      <td>-33.6971</td>\n",
       "      <td>12.75</td>\n",
       "      <td>77</td>\n",
       "      <td>0</td>\n",
       "      <td>3.06</td>\n",
       "    </tr>\n",
       "    <tr>\n",
       "      <th>9</th>\n",
       "      <td>rikitea</td>\n",
       "      <td>-23.1203</td>\n",
       "      <td>25.07</td>\n",
       "      <td>73</td>\n",
       "      <td>29</td>\n",
       "      <td>5.02</td>\n",
       "    </tr>\n",
       "    <tr>\n",
       "      <th>10</th>\n",
       "      <td>dikson</td>\n",
       "      <td>73.5069</td>\n",
       "      <td>-0.06</td>\n",
       "      <td>97</td>\n",
       "      <td>100</td>\n",
       "      <td>7.26</td>\n",
       "    </tr>\n",
       "    <tr>\n",
       "      <th>11</th>\n",
       "      <td>longyearbyen</td>\n",
       "      <td>78.2186</td>\n",
       "      <td>-9.00</td>\n",
       "      <td>86</td>\n",
       "      <td>90</td>\n",
       "      <td>1.03</td>\n",
       "    </tr>\n",
       "    <tr>\n",
       "      <th>12</th>\n",
       "      <td>guerrero negro</td>\n",
       "      <td>27.9769</td>\n",
       "      <td>18.50</td>\n",
       "      <td>57</td>\n",
       "      <td>1</td>\n",
       "      <td>7.27</td>\n",
       "    </tr>\n",
       "    <tr>\n",
       "      <th>13</th>\n",
       "      <td>carnarvon</td>\n",
       "      <td>-24.8667</td>\n",
       "      <td>16.00</td>\n",
       "      <td>77</td>\n",
       "      <td>0</td>\n",
       "      <td>3.09</td>\n",
       "    </tr>\n",
       "    <tr>\n",
       "      <th>14</th>\n",
       "      <td>anadyr</td>\n",
       "      <td>64.7500</td>\n",
       "      <td>-1.06</td>\n",
       "      <td>93</td>\n",
       "      <td>75</td>\n",
       "      <td>5.00</td>\n",
       "    </tr>\n",
       "    <tr>\n",
       "      <th>15</th>\n",
       "      <td>airai</td>\n",
       "      <td>-8.9266</td>\n",
       "      <td>16.83</td>\n",
       "      <td>59</td>\n",
       "      <td>10</td>\n",
       "      <td>0.43</td>\n",
       "    </tr>\n",
       "    <tr>\n",
       "      <th>16</th>\n",
       "      <td>lancaster</td>\n",
       "      <td>40.2504</td>\n",
       "      <td>23.03</td>\n",
       "      <td>53</td>\n",
       "      <td>1</td>\n",
       "      <td>3.09</td>\n",
       "    </tr>\n",
       "    <tr>\n",
       "      <th>17</th>\n",
       "      <td>businga</td>\n",
       "      <td>3.3333</td>\n",
       "      <td>22.66</td>\n",
       "      <td>83</td>\n",
       "      <td>70</td>\n",
       "      <td>0.72</td>\n",
       "    </tr>\n",
       "    <tr>\n",
       "      <th>18</th>\n",
       "      <td>epe</td>\n",
       "      <td>6.5841</td>\n",
       "      <td>27.02</td>\n",
       "      <td>87</td>\n",
       "      <td>85</td>\n",
       "      <td>3.04</td>\n",
       "    </tr>\n",
       "    <tr>\n",
       "      <th>19</th>\n",
       "      <td>cotonou</td>\n",
       "      <td>6.3654</td>\n",
       "      <td>28.55</td>\n",
       "      <td>82</td>\n",
       "      <td>99</td>\n",
       "      <td>5.69</td>\n",
       "    </tr>\n",
       "  </tbody>\n",
       "</table>\n",
       "</div>"
      ],
      "text/plain": [
       "              City  Latitude  Temperature  Humidity  Cloudiness  Wind Speed\n",
       "0        tocopilla  -22.0920        19.10        73          13        1.51\n",
       "1            yuxia   34.0615         7.00        87           0        1.00\n",
       "2         tasiilaq   65.6145         3.00        70          75        4.12\n",
       "3         acapulco   16.8634        29.00        74           1        4.63\n",
       "4        upernavik   72.7868        -0.34        87          71        7.88\n",
       "5         thompson   55.7435        -3.00        50          75        8.23\n",
       "6            bluff  -46.6000        10.56        79         100        1.79\n",
       "7     punta arenas  -53.1500         6.83        93          90        6.17\n",
       "8             chuy  -33.6971        12.75        77           0        3.06\n",
       "9          rikitea  -23.1203        25.07        73          29        5.02\n",
       "10          dikson   73.5069        -0.06        97         100        7.26\n",
       "11    longyearbyen   78.2186        -9.00        86          90        1.03\n",
       "12  guerrero negro   27.9769        18.50        57           1        7.27\n",
       "13       carnarvon  -24.8667        16.00        77           0        3.09\n",
       "14          anadyr   64.7500        -1.06        93          75        5.00\n",
       "15           airai   -8.9266        16.83        59          10        0.43\n",
       "16       lancaster   40.2504        23.03        53           1        3.09\n",
       "17         businga    3.3333        22.66        83          70        0.72\n",
       "18             epe    6.5841        27.02        87          85        3.04\n",
       "19         cotonou    6.3654        28.55        82          99        5.69"
      ]
     },
     "execution_count": 131,
     "metadata": {},
     "output_type": "execute_result"
    }
   ],
   "source": [
    "weather_dict= {\n",
    "            \"City\": cityname,\n",
    "            \"Latitude\":   lat,\n",
    "            \"Temperature\": temp,\n",
    "            \"Humidity\": humidity,\n",
    "            \"Cloudiness\": clouds,\n",
    "            \"Wind Speed\": windspeed\n",
    "}\n",
    "weather_data= pd.DataFrame(weather_dict)\n",
    "\n",
    "weather_data.head(20)"
   ]
  },
  {
   "cell_type": "code",
   "execution_count": null,
   "metadata": {},
   "outputs": [],
   "source": [
    "#weather_data.to_csv('citydatainfo.csv')"
   ]
  },
  {
   "cell_type": "markdown",
   "metadata": {},
   "source": [
    "## Inspect the data and remove the cities where the humidity > 100%.\n",
    "----\n",
    "Skip this step if there are no cities that have humidity > 100%. "
   ]
  },
  {
   "cell_type": "code",
   "execution_count": null,
   "metadata": {},
   "outputs": [],
   "source": []
  },
  {
   "cell_type": "code",
   "execution_count": null,
   "metadata": {},
   "outputs": [],
   "source": [
    "#  Get the indices of cities that have humidity over 100%.\n"
   ]
  },
  {
   "cell_type": "code",
   "execution_count": null,
   "metadata": {},
   "outputs": [],
   "source": [
    "# Make a new DataFrame equal to the city data to drop all humidity outliers by index.\n",
    "# Passing \"inplace=False\" will make a copy of the city_data DataFrame, which we call \"clean_city_data\".\n"
   ]
  },
  {
   "cell_type": "code",
   "execution_count": null,
   "metadata": {},
   "outputs": [],
   "source": [
    "\n"
   ]
  },
  {
   "cell_type": "markdown",
   "metadata": {},
   "source": [
    "## Plotting the Data\n",
    "* Use proper labeling of the plots using plot titles (including date of analysis) and axes labels.\n",
    "* Save the plotted figures as .pngs."
   ]
  },
  {
   "cell_type": "markdown",
   "metadata": {},
   "source": [
    "## Latitude vs. Temperature Plot"
   ]
  },
  {
   "cell_type": "code",
   "execution_count": null,
   "metadata": {
    "scrolled": true
   },
   "outputs": [],
   "source": []
  },
  {
   "cell_type": "markdown",
   "metadata": {},
   "source": [
    "## Latitude vs. Humidity Plot"
   ]
  },
  {
   "cell_type": "code",
   "execution_count": null,
   "metadata": {},
   "outputs": [],
   "source": []
  },
  {
   "cell_type": "markdown",
   "metadata": {},
   "source": [
    "## Latitude vs. Cloudiness Plot"
   ]
  },
  {
   "cell_type": "code",
   "execution_count": null,
   "metadata": {},
   "outputs": [],
   "source": []
  },
  {
   "cell_type": "markdown",
   "metadata": {},
   "source": [
    "## Latitude vs. Wind Speed Plot"
   ]
  },
  {
   "cell_type": "code",
   "execution_count": null,
   "metadata": {},
   "outputs": [],
   "source": []
  },
  {
   "cell_type": "markdown",
   "metadata": {},
   "source": [
    "## Linear Regression"
   ]
  },
  {
   "cell_type": "code",
   "execution_count": null,
   "metadata": {},
   "outputs": [],
   "source": []
  },
  {
   "cell_type": "markdown",
   "metadata": {},
   "source": [
    "####  Northern Hemisphere - Max Temp vs. Latitude Linear Regression"
   ]
  },
  {
   "cell_type": "code",
   "execution_count": null,
   "metadata": {},
   "outputs": [],
   "source": []
  },
  {
   "cell_type": "markdown",
   "metadata": {},
   "source": [
    "####  Southern Hemisphere - Max Temp vs. Latitude Linear Regression"
   ]
  },
  {
   "cell_type": "code",
   "execution_count": null,
   "metadata": {},
   "outputs": [],
   "source": []
  },
  {
   "cell_type": "markdown",
   "metadata": {},
   "source": [
    "####  Northern Hemisphere - Humidity (%) vs. Latitude Linear Regression"
   ]
  },
  {
   "cell_type": "code",
   "execution_count": null,
   "metadata": {},
   "outputs": [],
   "source": []
  },
  {
   "cell_type": "markdown",
   "metadata": {},
   "source": [
    "####  Southern Hemisphere - Humidity (%) vs. Latitude Linear Regression"
   ]
  },
  {
   "cell_type": "code",
   "execution_count": null,
   "metadata": {},
   "outputs": [],
   "source": []
  },
  {
   "cell_type": "markdown",
   "metadata": {},
   "source": [
    "####  Northern Hemisphere - Cloudiness (%) vs. Latitude Linear Regression"
   ]
  },
  {
   "cell_type": "code",
   "execution_count": null,
   "metadata": {},
   "outputs": [],
   "source": []
  },
  {
   "cell_type": "markdown",
   "metadata": {},
   "source": [
    "####  Southern Hemisphere - Cloudiness (%) vs. Latitude Linear Regression"
   ]
  },
  {
   "cell_type": "code",
   "execution_count": null,
   "metadata": {},
   "outputs": [],
   "source": []
  },
  {
   "cell_type": "markdown",
   "metadata": {},
   "source": [
    "####  Northern Hemisphere - Wind Speed (mph) vs. Latitude Linear Regression"
   ]
  },
  {
   "cell_type": "code",
   "execution_count": null,
   "metadata": {},
   "outputs": [],
   "source": []
  },
  {
   "cell_type": "markdown",
   "metadata": {},
   "source": [
    "####  Southern Hemisphere - Wind Speed (mph) vs. Latitude Linear Regression"
   ]
  },
  {
   "cell_type": "code",
   "execution_count": null,
   "metadata": {},
   "outputs": [],
   "source": []
  },
  {
   "cell_type": "code",
   "execution_count": null,
   "metadata": {},
   "outputs": [],
   "source": []
  }
 ],
 "metadata": {
  "anaconda-cloud": {},
  "kernel_info": {
   "name": "python3"
  },
  "kernelspec": {
   "display_name": "Python 3",
   "language": "python",
   "name": "python3"
  },
  "language_info": {
   "codemirror_mode": {
    "name": "ipython",
    "version": 3
   },
   "file_extension": ".py",
   "mimetype": "text/x-python",
   "name": "python",
   "nbconvert_exporter": "python",
   "pygments_lexer": "ipython3",
   "version": "3.8.5"
  },
  "latex_envs": {
   "LaTeX_envs_menu_present": true,
   "autoclose": false,
   "autocomplete": true,
   "bibliofile": "biblio.bib",
   "cite_by": "apalike",
   "current_citInitial": 1,
   "eqLabelWithNumbers": true,
   "eqNumInitial": 1,
   "hotkeys": {
    "equation": "Ctrl-E",
    "itemize": "Ctrl-I"
   },
   "labels_anchors": false,
   "latex_user_defs": false,
   "report_style_numbering": false,
   "user_envs_cfg": false
  },
  "nteract": {
   "version": "0.12.3"
  }
 },
 "nbformat": 4,
 "nbformat_minor": 4
}
