{
 "cells": [
  {
   "cell_type": "markdown",
   "metadata": {},
   "source": [
    "# WeatherPy\n",
    "----\n",
    "\n",
    "#### Note\n",
    "* Instructions have been included for each segment. You do not have to follow them exactly, but they are included to help you think through the steps."
   ]
  },
  {
   "cell_type": "code",
   "execution_count": 24,
   "metadata": {
    "scrolled": true
   },
   "outputs": [],
   "source": [
    "# Dependencies and Setup\n",
    "import matplotlib.pyplot as plt\n",
    "import pandas as pd\n",
    "import numpy as np\n",
    "import requests\n",
    "import time\n",
    "from scipy.stats import linregress\n",
    "# Import API key\n",
    "from api_keys import weather_api_key\n",
    "\n",
    "# Incorporated citipy to determine city based on latitude and longitude\n",
    "from citipy import citipy\n",
    "\n",
    "# Output File (CSV)\n",
    "output_data_file = \"output_data/cities.csv\"\n",
    "\n",
    "# Range of latitudes and longitudes\n",
    "lat_range = (-90, 90)\n",
    "lng_range = (-180, 180)"
   ]
  },
  {
   "cell_type": "markdown",
   "metadata": {},
   "source": [
    "## Generate Cities List"
   ]
  },
  {
   "cell_type": "code",
   "execution_count": 25,
   "metadata": {},
   "outputs": [
    {
     "data": {
      "text/plain": [
       "629"
      ]
     },
     "execution_count": 25,
     "metadata": {},
     "output_type": "execute_result"
    }
   ],
   "source": [
    "# List for holding lat_lngs and cities\n",
    "lat_lngs = []\n",
    "cities = []\n",
    "\n",
    "# Create a set of random lat and lng combinations\n",
    "lats = np.random.uniform(lat_range[0], lat_range[1], size=1500)\n",
    "lngs = np.random.uniform(lng_range[0], lng_range[1], size=1500)\n",
    "lat_lngs = zip(lats, lngs)\n",
    "\n",
    "# Identify nearest city for each lat, lng combination\n",
    "for lat_lng in lat_lngs:\n",
    "    city = citipy.nearest_city(lat_lng[0], lat_lng[1]).city_name\n",
    "    \n",
    "    # If the city is unique, then add it to a our cities list\n",
    "    if city not in cities:\n",
    "        cities.append(city)\n",
    "\n",
    "# Print the city count to confirm sufficient count\n",
    "len(cities)\n",
    "\n"
   ]
  },
  {
   "cell_type": "markdown",
   "metadata": {},
   "source": [
    "### Perform API Calls\n",
    "* Perform a weather check on each city using a series of successive API calls.\n",
    "* Include a print log of each city as it'sbeing processed (with the city number and city name).\n"
   ]
  },
  {
   "cell_type": "code",
   "execution_count": 26,
   "metadata": {
    "scrolled": true
   },
   "outputs": [
    {
     "name": "stdout",
     "output_type": "stream",
     "text": [
      "soavinandriana\n",
      "krizevci\n",
      "dingle\n",
      "papara\n",
      "luderitz\n",
      "kavaratti\n",
      "city not found\n",
      "kodiak\n",
      "pisco\n",
      "city not found\n",
      "sao filipe\n",
      "la ronge\n",
      "atuona\n",
      "city not found\n",
      "ushuaia\n",
      "yar-sale\n",
      "jalu\n",
      "dikson\n",
      "fukue\n",
      "jamestown\n",
      "arraial do cabo\n",
      "ribeira grande\n",
      "port blair\n",
      "russell\n",
      "isangel\n",
      "ust-shonosha\n",
      "city not found\n",
      "chuy\n",
      "kapaa\n",
      "dalbandin\n",
      "city not found\n",
      "alpine\n",
      "port elizabeth\n",
      "mataura\n",
      "albany\n",
      "provideniya\n",
      "pointe michel\n",
      "wurzburg\n",
      "fairbanks\n",
      "ler\n",
      "severo-kurilsk\n",
      "cape town\n",
      "shelburne\n",
      "vaini\n",
      "merauke\n",
      "alakurtti\n",
      "carnarvon\n",
      "avarua\n",
      "punta arenas\n",
      "benidorm\n"
     ]
    }
   ],
   "source": [
    "#url=http://api.openweathermap.org/data/2.5/weather?appid=9e8ad36944a36af2b33e09daa8e352bb&units=metric&q=\n",
    "url=\"http://api.openweathermap.org/data/2.5/weather?\"\n",
    "units=\"imperial\"\n",
    "lat= []\n",
    "temp=[]\n",
    "cityname=[]\n",
    "humidity=[]\n",
    "clouds=[]\n",
    "windspeed=[]\n",
    "country=[]\n",
    "long=[]\n",
    "date=[]\n",
    "#Query URL\n",
    "query_url= f\"{url}appid={weather_api_key}&units={units}&q=\"\n",
    "for city in cities[:50]:\n",
    "    \n",
    "    \n",
    "    try:\n",
    "        response = requests.get(query_url+city).json()\n",
    "        lat.append(response['coord']['lat'])\n",
    "        temp.append(response['main']['temp'])\n",
    "        cityname.append(city)\n",
    "        humidity.append(response['main']['humidity'])\n",
    "        clouds.append(response['clouds']['all'])\n",
    "        windspeed.append(response['wind']['speed'])\n",
    "        country.append(response['sys']['country'])\n",
    "        long.append(response['coord']['lon'])\n",
    "        date.append(response['dt'])\n",
    "        print(city)\n",
    "    except:\n",
    "        print(\"city not found\")\n",
    "        pass\n",
    "  \n"
   ]
  },
  {
   "cell_type": "code",
   "execution_count": null,
   "metadata": {},
   "outputs": [],
   "source": []
  },
  {
   "cell_type": "markdown",
   "metadata": {},
   "source": [
    "### Convert Raw Data to DataFrame\n",
    "* Export the city data into a .csv.\n",
    "* Display the DataFrame"
   ]
  },
  {
   "cell_type": "code",
   "execution_count": 27,
   "metadata": {},
   "outputs": [
    {
     "data": {
      "text/html": [
       "<div>\n",
       "<style scoped>\n",
       "    .dataframe tbody tr th:only-of-type {\n",
       "        vertical-align: middle;\n",
       "    }\n",
       "\n",
       "    .dataframe tbody tr th {\n",
       "        vertical-align: top;\n",
       "    }\n",
       "\n",
       "    .dataframe thead th {\n",
       "        text-align: right;\n",
       "    }\n",
       "</style>\n",
       "<table border=\"1\" class=\"dataframe\">\n",
       "  <thead>\n",
       "    <tr style=\"text-align: right;\">\n",
       "      <th></th>\n",
       "      <th>City</th>\n",
       "      <th>Country</th>\n",
       "      <th>Date</th>\n",
       "      <th>Longitude</th>\n",
       "      <th>Latitude</th>\n",
       "      <th>Temperature</th>\n",
       "      <th>Humidity</th>\n",
       "      <th>Cloudiness</th>\n",
       "      <th>Wind Speed</th>\n",
       "    </tr>\n",
       "  </thead>\n",
       "  <tbody>\n",
       "    <tr>\n",
       "      <th>0</th>\n",
       "      <td>soavinandriana</td>\n",
       "      <td>MG</td>\n",
       "      <td>1619637959</td>\n",
       "      <td>46.7333</td>\n",
       "      <td>-19.1667</td>\n",
       "      <td>57.00</td>\n",
       "      <td>93</td>\n",
       "      <td>1</td>\n",
       "      <td>4.97</td>\n",
       "    </tr>\n",
       "    <tr>\n",
       "      <th>1</th>\n",
       "      <td>krizevci</td>\n",
       "      <td>HR</td>\n",
       "      <td>1619637960</td>\n",
       "      <td>16.5425</td>\n",
       "      <td>46.0219</td>\n",
       "      <td>50.90</td>\n",
       "      <td>82</td>\n",
       "      <td>40</td>\n",
       "      <td>1.14</td>\n",
       "    </tr>\n",
       "    <tr>\n",
       "      <th>2</th>\n",
       "      <td>dingle</td>\n",
       "      <td>PH</td>\n",
       "      <td>1619637640</td>\n",
       "      <td>122.6711</td>\n",
       "      <td>10.9995</td>\n",
       "      <td>73.99</td>\n",
       "      <td>87</td>\n",
       "      <td>95</td>\n",
       "      <td>5.53</td>\n",
       "    </tr>\n",
       "    <tr>\n",
       "      <th>3</th>\n",
       "      <td>papara</td>\n",
       "      <td>BR</td>\n",
       "      <td>1619637960</td>\n",
       "      <td>-38.7273</td>\n",
       "      <td>-3.9839</td>\n",
       "      <td>83.59</td>\n",
       "      <td>74</td>\n",
       "      <td>20</td>\n",
       "      <td>13.80</td>\n",
       "    </tr>\n",
       "    <tr>\n",
       "      <th>4</th>\n",
       "      <td>luderitz</td>\n",
       "      <td>NA</td>\n",
       "      <td>1619637961</td>\n",
       "      <td>15.1594</td>\n",
       "      <td>-26.6481</td>\n",
       "      <td>62.19</td>\n",
       "      <td>79</td>\n",
       "      <td>0</td>\n",
       "      <td>16.08</td>\n",
       "    </tr>\n",
       "    <tr>\n",
       "      <th>5</th>\n",
       "      <td>kavaratti</td>\n",
       "      <td>IN</td>\n",
       "      <td>1619637961</td>\n",
       "      <td>72.6420</td>\n",
       "      <td>10.5669</td>\n",
       "      <td>84.52</td>\n",
       "      <td>70</td>\n",
       "      <td>0</td>\n",
       "      <td>5.03</td>\n",
       "    </tr>\n",
       "    <tr>\n",
       "      <th>6</th>\n",
       "      <td>kodiak</td>\n",
       "      <td>US</td>\n",
       "      <td>1619637924</td>\n",
       "      <td>-152.4072</td>\n",
       "      <td>57.7900</td>\n",
       "      <td>42.80</td>\n",
       "      <td>87</td>\n",
       "      <td>90</td>\n",
       "      <td>12.66</td>\n",
       "    </tr>\n",
       "    <tr>\n",
       "      <th>7</th>\n",
       "      <td>pisco</td>\n",
       "      <td>PE</td>\n",
       "      <td>1619637935</td>\n",
       "      <td>-76.2167</td>\n",
       "      <td>-13.7000</td>\n",
       "      <td>66.11</td>\n",
       "      <td>88</td>\n",
       "      <td>90</td>\n",
       "      <td>8.05</td>\n",
       "    </tr>\n",
       "    <tr>\n",
       "      <th>8</th>\n",
       "      <td>sao filipe</td>\n",
       "      <td>CV</td>\n",
       "      <td>1619637962</td>\n",
       "      <td>-24.4956</td>\n",
       "      <td>14.8961</td>\n",
       "      <td>73.17</td>\n",
       "      <td>75</td>\n",
       "      <td>40</td>\n",
       "      <td>14.61</td>\n",
       "    </tr>\n",
       "    <tr>\n",
       "      <th>9</th>\n",
       "      <td>la ronge</td>\n",
       "      <td>CA</td>\n",
       "      <td>1619637962</td>\n",
       "      <td>-105.2842</td>\n",
       "      <td>55.1001</td>\n",
       "      <td>30.20</td>\n",
       "      <td>40</td>\n",
       "      <td>100</td>\n",
       "      <td>5.75</td>\n",
       "    </tr>\n",
       "    <tr>\n",
       "      <th>10</th>\n",
       "      <td>atuona</td>\n",
       "      <td>PF</td>\n",
       "      <td>1619637962</td>\n",
       "      <td>-139.0333</td>\n",
       "      <td>-9.8000</td>\n",
       "      <td>79.48</td>\n",
       "      <td>71</td>\n",
       "      <td>82</td>\n",
       "      <td>13.20</td>\n",
       "    </tr>\n",
       "    <tr>\n",
       "      <th>11</th>\n",
       "      <td>ushuaia</td>\n",
       "      <td>AR</td>\n",
       "      <td>1619637376</td>\n",
       "      <td>-68.3000</td>\n",
       "      <td>-54.8000</td>\n",
       "      <td>42.80</td>\n",
       "      <td>75</td>\n",
       "      <td>40</td>\n",
       "      <td>21.85</td>\n",
       "    </tr>\n",
       "    <tr>\n",
       "      <th>12</th>\n",
       "      <td>yar-sale</td>\n",
       "      <td>RU</td>\n",
       "      <td>1619637643</td>\n",
       "      <td>70.8333</td>\n",
       "      <td>66.8333</td>\n",
       "      <td>11.82</td>\n",
       "      <td>96</td>\n",
       "      <td>46</td>\n",
       "      <td>6.15</td>\n",
       "    </tr>\n",
       "    <tr>\n",
       "      <th>13</th>\n",
       "      <td>jalu</td>\n",
       "      <td>LY</td>\n",
       "      <td>1619637390</td>\n",
       "      <td>21.5482</td>\n",
       "      <td>29.0331</td>\n",
       "      <td>84.72</td>\n",
       "      <td>7</td>\n",
       "      <td>78</td>\n",
       "      <td>11.14</td>\n",
       "    </tr>\n",
       "    <tr>\n",
       "      <th>14</th>\n",
       "      <td>dikson</td>\n",
       "      <td>RU</td>\n",
       "      <td>1619637379</td>\n",
       "      <td>80.5464</td>\n",
       "      <td>73.5069</td>\n",
       "      <td>22.51</td>\n",
       "      <td>96</td>\n",
       "      <td>100</td>\n",
       "      <td>8.86</td>\n",
       "    </tr>\n",
       "    <tr>\n",
       "      <th>15</th>\n",
       "      <td>fukue</td>\n",
       "      <td>JP</td>\n",
       "      <td>1619637964</td>\n",
       "      <td>128.8419</td>\n",
       "      <td>32.6881</td>\n",
       "      <td>63.23</td>\n",
       "      <td>92</td>\n",
       "      <td>100</td>\n",
       "      <td>10.92</td>\n",
       "    </tr>\n",
       "    <tr>\n",
       "      <th>16</th>\n",
       "      <td>jamestown</td>\n",
       "      <td>US</td>\n",
       "      <td>1619637866</td>\n",
       "      <td>-79.2353</td>\n",
       "      <td>42.0970</td>\n",
       "      <td>67.86</td>\n",
       "      <td>82</td>\n",
       "      <td>75</td>\n",
       "      <td>8.05</td>\n",
       "    </tr>\n",
       "    <tr>\n",
       "      <th>17</th>\n",
       "      <td>arraial do cabo</td>\n",
       "      <td>BR</td>\n",
       "      <td>1619637477</td>\n",
       "      <td>-42.0278</td>\n",
       "      <td>-22.9661</td>\n",
       "      <td>77.77</td>\n",
       "      <td>69</td>\n",
       "      <td>40</td>\n",
       "      <td>11.50</td>\n",
       "    </tr>\n",
       "    <tr>\n",
       "      <th>18</th>\n",
       "      <td>ribeira grande</td>\n",
       "      <td>PT</td>\n",
       "      <td>1619637964</td>\n",
       "      <td>-28.7000</td>\n",
       "      <td>38.5167</td>\n",
       "      <td>62.60</td>\n",
       "      <td>59</td>\n",
       "      <td>40</td>\n",
       "      <td>13.80</td>\n",
       "    </tr>\n",
       "    <tr>\n",
       "      <th>19</th>\n",
       "      <td>port blair</td>\n",
       "      <td>IN</td>\n",
       "      <td>1619637550</td>\n",
       "      <td>92.7500</td>\n",
       "      <td>11.6667</td>\n",
       "      <td>82.02</td>\n",
       "      <td>73</td>\n",
       "      <td>97</td>\n",
       "      <td>1.72</td>\n",
       "    </tr>\n",
       "  </tbody>\n",
       "</table>\n",
       "</div>"
      ],
      "text/plain": [
       "               City Country        Date  Longitude  Latitude  Temperature  \\\n",
       "0    soavinandriana      MG  1619637959    46.7333  -19.1667        57.00   \n",
       "1          krizevci      HR  1619637960    16.5425   46.0219        50.90   \n",
       "2            dingle      PH  1619637640   122.6711   10.9995        73.99   \n",
       "3            papara      BR  1619637960   -38.7273   -3.9839        83.59   \n",
       "4          luderitz      NA  1619637961    15.1594  -26.6481        62.19   \n",
       "5         kavaratti      IN  1619637961    72.6420   10.5669        84.52   \n",
       "6            kodiak      US  1619637924  -152.4072   57.7900        42.80   \n",
       "7             pisco      PE  1619637935   -76.2167  -13.7000        66.11   \n",
       "8        sao filipe      CV  1619637962   -24.4956   14.8961        73.17   \n",
       "9          la ronge      CA  1619637962  -105.2842   55.1001        30.20   \n",
       "10           atuona      PF  1619637962  -139.0333   -9.8000        79.48   \n",
       "11          ushuaia      AR  1619637376   -68.3000  -54.8000        42.80   \n",
       "12         yar-sale      RU  1619637643    70.8333   66.8333        11.82   \n",
       "13             jalu      LY  1619637390    21.5482   29.0331        84.72   \n",
       "14           dikson      RU  1619637379    80.5464   73.5069        22.51   \n",
       "15            fukue      JP  1619637964   128.8419   32.6881        63.23   \n",
       "16        jamestown      US  1619637866   -79.2353   42.0970        67.86   \n",
       "17  arraial do cabo      BR  1619637477   -42.0278  -22.9661        77.77   \n",
       "18   ribeira grande      PT  1619637964   -28.7000   38.5167        62.60   \n",
       "19       port blair      IN  1619637550    92.7500   11.6667        82.02   \n",
       "\n",
       "    Humidity  Cloudiness  Wind Speed  \n",
       "0         93           1        4.97  \n",
       "1         82          40        1.14  \n",
       "2         87          95        5.53  \n",
       "3         74          20       13.80  \n",
       "4         79           0       16.08  \n",
       "5         70           0        5.03  \n",
       "6         87          90       12.66  \n",
       "7         88          90        8.05  \n",
       "8         75          40       14.61  \n",
       "9         40         100        5.75  \n",
       "10        71          82       13.20  \n",
       "11        75          40       21.85  \n",
       "12        96          46        6.15  \n",
       "13         7          78       11.14  \n",
       "14        96         100        8.86  \n",
       "15        92         100       10.92  \n",
       "16        82          75        8.05  \n",
       "17        69          40       11.50  \n",
       "18        59          40       13.80  \n",
       "19        73          97        1.72  "
      ]
     },
     "execution_count": 27,
     "metadata": {},
     "output_type": "execute_result"
    }
   ],
   "source": [
    "weather_dict= {\n",
    "            \"City\": cityname,\n",
    "            \"Country\":country,\n",
    "            \"Date\":date,\n",
    "            \"Longitude\":long,\n",
    "            \"Latitude\":   lat,\n",
    "            \"Temperature\": temp,\n",
    "            \"Humidity\": humidity,\n",
    "            \"Cloudiness\": clouds,\n",
    "            \"Wind Speed\": windspeed\n",
    "            \n",
    "}\n",
    "weather_data= pd.DataFrame(weather_dict)\n",
    "\n",
    "weather_data.head(20)"
   ]
  },
  {
   "cell_type": "code",
   "execution_count": 28,
   "metadata": {},
   "outputs": [],
   "source": [
    "weather_data.to_csv('citydatainfo.csv')"
   ]
  },
  {
   "cell_type": "markdown",
   "metadata": {},
   "source": [
    "## Plotting the Data\n",
    "* Use proper labeling of the plots using plot titles (including date of analysis) and axes labels.\n",
    "* Save the plotted figures as .pngs."
   ]
  },
  {
   "cell_type": "markdown",
   "metadata": {},
   "source": [
    "## Latitude vs. Temperature Plot"
   ]
  },
  {
   "cell_type": "code",
   "execution_count": 29,
   "metadata": {
    "scrolled": true
   },
   "outputs": [
    {
     "data": {
      "text/plain": [
       "Text(0, 0.5, 'Latitude')"
      ]
     },
     "execution_count": 29,
     "metadata": {},
     "output_type": "execute_result"
    },
    {
     "data": {
      "image/png": "[encoded data removed]",
      "text/plain": [
       "<Figure size 432x288 with 1 Axes>"
      ]
     },
     "metadata": {
      "needs_background": "light"
     },
     "output_type": "display_data"
    }
   ],
   "source": [
    "plt.scatter(weather_data[\"Temperature\"],weather_data[\"Latitude\"])\n",
    "plt.xlabel(\"Temperature\")\n",
    "plt.ylabel(\"Latitude\")"
   ]
  },
  {
   "cell_type": "code",
   "execution_count": 30,
   "metadata": {},
   "outputs": [],
   "source": [
    "#There seems to be a negative correlation between high latitudes and lower temperatures "
   ]
  },
  {
   "cell_type": "markdown",
   "metadata": {},
   "source": [
    "## Latitude vs. Humidity Plot"
   ]
  },
  {
   "cell_type": "code",
   "execution_count": 31,
   "metadata": {},
   "outputs": [
    {
     "data": {
      "text/plain": [
       "Text(0, 0.5, 'Latitude')"
      ]
     },
     "execution_count": 31,
     "metadata": {},
     "output_type": "execute_result"
    },
    {
     "data": {
      "image/png": "[encoded data removed]",
      "text/plain": [
       "<Figure size 432x288 with 1 Axes>"
      ]
     },
     "metadata": {
      "needs_background": "light"
     },
     "output_type": "display_data"
    }
   ],
   "source": [
    "plt.scatter(weather_data[\"Latitude\"],weather_data[\"Humidity\"])\n",
    "plt.xlabel(\"Humidity\")\n",
    "plt.ylabel(\"Latitude\")"
   ]
  },
  {
   "cell_type": "code",
   "execution_count": 32,
   "metadata": {},
   "outputs": [],
   "source": [
    "# There doesn't seem to be a correlation between humidity and latitude. "
   ]
  },
  {
   "cell_type": "markdown",
   "metadata": {},
   "source": [
    "## Latitude vs. Cloudiness Plot"
   ]
  },
  {
   "cell_type": "code",
   "execution_count": 33,
   "metadata": {},
   "outputs": [
    {
     "data": {
      "text/plain": [
       "Text(0, 0.5, 'Cloudiness')"
      ]
     },
     "execution_count": 33,
     "metadata": {},
     "output_type": "execute_result"
    },
    {
     "data": {
      "image/png": "[encoded data removed]",
      "text/plain": [
       "<Figure size 432x288 with 1 Axes>"
      ]
     },
     "metadata": {
      "needs_background": "light"
     },
     "output_type": "display_data"
    }
   ],
   "source": [
    "plt.scatter(weather_data[\"Latitude\"],weather_data[\"Cloudiness\"])\n",
    "plt.xlabel(\"Latitude\")\n",
    "plt.ylabel(\"Cloudiness\")"
   ]
  },
  {
   "cell_type": "code",
   "execution_count": 34,
   "metadata": {},
   "outputs": [],
   "source": [
    "#Latitude doesn't have an impact on how cloudy a city is. "
   ]
  },
  {
   "cell_type": "markdown",
   "metadata": {},
   "source": [
    "## Latitude vs. Wind Speed Plot"
   ]
  },
  {
   "cell_type": "code",
   "execution_count": 35,
   "metadata": {},
   "outputs": [
    {
     "data": {
      "text/plain": [
       "Text(0, 0.5, 'Wind Speed')"
      ]
     },
     "execution_count": 35,
     "metadata": {},
     "output_type": "execute_result"
    },
    {
     "data": {
      "image/png": "[encoded data removed]",
      "text/plain": [
       "<Figure size 432x288 with 1 Axes>"
      ]
     },
     "metadata": {
      "needs_background": "light"
     },
     "output_type": "display_data"
    }
   ],
   "source": [
    "plt.scatter(weather_data[\"Latitude\"],weather_data[\"Wind Speed\"])\n",
    "plt.xlabel(\"Latitude\")\n",
    "plt.ylabel(\"Wind Speed\")"
   ]
  },
  {
   "cell_type": "code",
   "execution_count": 36,
   "metadata": {},
   "outputs": [],
   "source": [
    "#The majority of wind speed is under 15 MPH"
   ]
  },
  {
   "cell_type": "markdown",
   "metadata": {},
   "source": [
    "## Linear Regression"
   ]
  },
  {
   "cell_type": "code",
   "execution_count": 37,
   "metadata": {},
   "outputs": [],
   "source": [
    "\n",
    "def linear_hemisphere (x_values,y_values,title,coordinates):\n",
    "    (slope, intercept, rvalue, pvalue, stderr) = linregress(x_values, y_values)\n",
    "    regress_values = x_values * slope + intercept\n",
    "    line_eq = \"y = \" + str(round(slope,2)) + \"x + \" + str(round(intercept,2))\n",
    "    plt.scatter(x_values,y_values)\n",
    "    plt.plot(x_values,regress_values,\"r-\")\n",
    "    plt.annotate(line_eq,coordinates,fontsize=15,color=\"red\")\n",
    "    plt.xlabel(\"latitude\")\n",
    "    plt.ylabel(title)\n",
    "    plt.show()"
   ]
  },
  {
   "cell_type": "markdown",
   "metadata": {},
   "source": [
    "####  Northern Hemisphere - Max Temp vs. Latitude Linear Regression"
   ]
  },
  {
   "cell_type": "code",
   "execution_count": 38,
   "metadata": {},
   "outputs": [
    {
     "data": {
      "image/png": "[encoded data removed]",
      "text/plain": [
       "<Figure size 432x288 with 1 Axes>"
      ]
     },
     "metadata": {
      "needs_background": "light"
     },
     "output_type": "display_data"
    }
   ],
   "source": [
    "north_hemisphere_data= weather_data.loc[weather_data[\"Latitude\"]>=0]\n",
    "south_hemisphere_data=weather_data.loc[weather_data[\"Latitude\"] >=0]\n",
    "x_values=north_hemisphere_data[\"Latitude\"]\n",
    "y_values=north_hemisphere_data[\"Temperature\"]\n",
    "linear_hemisphere(x_values,y_values,\"Max Temp\",(6,15))"
   ]
  },
  {
   "cell_type": "markdown",
   "metadata": {},
   "source": [
    "####  Southern Hemisphere - Max Temp vs. Latitude Linear Regression"
   ]
  },
  {
   "cell_type": "code",
   "execution_count": 39,
   "metadata": {},
   "outputs": [
    {
     "ename": "NameError",
     "evalue": "name 'south_' is not defined",
     "output_type": "error",
     "traceback": [
      "\u001b[0;31m---------------------------------------------------------------------------\u001b[0m",
      "\u001b[0;31mNameError\u001b[0m                                 Traceback (most recent call last)",
      "\u001b[0;32m<ipython-input-39-dca266544ddd>\u001b[0m in \u001b[0;36m<module>\u001b[0;34m\u001b[0m\n\u001b[0;32m----> 1\u001b[0;31m \u001b[0mx_values\u001b[0m\u001b[0;34m=\u001b[0m\u001b[0msouth_\u001b[0m\u001b[0;34m\u001b[0m\u001b[0;34m\u001b[0m\u001b[0m\n\u001b[0m",
      "\u001b[0;31mNameError\u001b[0m: name 'south_' is not defined"
     ]
    }
   ],
   "source": [
    "x_values=south_"
   ]
  },
  {
   "cell_type": "markdown",
   "metadata": {},
   "source": [
    "####  Northern Hemisphere - Humidity (%) vs. Latitude Linear Regression"
   ]
  },
  {
   "cell_type": "code",
   "execution_count": null,
   "metadata": {},
   "outputs": [],
   "source": []
  },
  {
   "cell_type": "markdown",
   "metadata": {},
   "source": [
    "####  Southern Hemisphere - Humidity (%) vs. Latitude Linear Regression"
   ]
  },
  {
   "cell_type": "code",
   "execution_count": null,
   "metadata": {},
   "outputs": [],
   "source": []
  },
  {
   "cell_type": "markdown",
   "metadata": {},
   "source": [
    "####  Northern Hemisphere - Cloudiness (%) vs. Latitude Linear Regression"
   ]
  },
  {
   "cell_type": "code",
   "execution_count": null,
   "metadata": {},
   "outputs": [],
   "source": []
  },
  {
   "cell_type": "markdown",
   "metadata": {},
   "source": [
    "####  Southern Hemisphere - Cloudiness (%) vs. Latitude Linear Regression"
   ]
  },
  {
   "cell_type": "code",
   "execution_count": null,
   "metadata": {},
   "outputs": [],
   "source": []
  },
  {
   "cell_type": "markdown",
   "metadata": {},
   "source": [
    "####  Northern Hemisphere - Wind Speed (mph) vs. Latitude Linear Regression"
   ]
  },
  {
   "cell_type": "code",
   "execution_count": null,
   "metadata": {},
   "outputs": [],
   "source": []
  },
  {
   "cell_type": "markdown",
   "metadata": {},
   "source": [
    "####  Southern Hemisphere - Wind Speed (mph) vs. Latitude Linear Regression"
   ]
  },
  {
   "cell_type": "code",
   "execution_count": null,
   "metadata": {},
   "outputs": [],
   "source": []
  },
  {
   "cell_type": "code",
   "execution_count": null,
   "metadata": {},
   "outputs": [],
   "source": []
  }
 ],
 "metadata": {
  "anaconda-cloud": {},
  "kernel_info": {
   "name": "python3"
  },
  "kernelspec": {
   "display_name": "Python 3",
   "language": "python",
   "name": "python3"
  },
  "language_info": {
   "codemirror_mode": {
    "name": "ipython",
    "version": 3
   },
   "file_extension": ".py",
   "mimetype": "text/x-python",
   "name": "python",
   "nbconvert_exporter": "python",
   "pygments_lexer": "ipython3",
   "version": "3.8.5"
  },
  "latex_envs": {
   "LaTeX_envs_menu_present": true,
   "autoclose": false,
   "autocomplete": true,
   "bibliofile": "biblio.bib",
   "cite_by": "apalike",
   "current_citInitial": 1,
   "eqLabelWithNumbers": true,
   "eqNumInitial": 1,
   "hotkeys": {
    "equation": "Ctrl-E",
    "itemize": "Ctrl-I"
   },
   "labels_anchors": false,
   "latex_user_defs": false,
   "report_style_numbering": false,
   "user_envs_cfg": false
  },
  "nteract": {
   "version": "0.12.3"
  }
 },
 "nbformat": 4,
 "nbformat_minor": 4
}
