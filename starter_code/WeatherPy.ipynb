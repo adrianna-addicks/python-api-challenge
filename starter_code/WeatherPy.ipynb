{
 "cells": [
  {
   "cell_type": "markdown",
   "metadata": {},
   "source": [
    "# WeatherPy\n",
    "----\n",
    "\n",
    "#### Note\n",
    "* Instructions have been included for each segment. You do not have to follow them exactly, but they are included to help you think through the steps."
   ]
  },
  {
   "cell_type": "code",
   "execution_count": 3,
   "metadata": {
    "scrolled": true
   },
   "outputs": [],
   "source": [
    "# Dependencies and Setup\n",
    "import matplotlib.pyplot as plt\n",
    "import pandas as pd\n",
    "import numpy as np\n",
    "import requests\n",
    "import time\n",
    "from scipy.stats import linregress\n",
    "# Import API key\n",
    "from api_keys import weather_api_key\n",
    "\n",
    "# Incorporated citipy to determine city based on latitude and longitude\n",
    "from citipy import citipy\n",
    "\n",
    "# Output File (CSV)\n",
    "output_data_file = \"output_data/cities.csv\"\n",
    "\n",
    "# Range of latitudes and longitudes\n",
    "lat_range = (-90, 90)\n",
    "lng_range = (-180, 180)"
   ]
  },
  {
   "cell_type": "markdown",
   "metadata": {},
   "source": [
    "## Generate Cities List"
   ]
  },
  {
   "cell_type": "code",
   "execution_count": 4,
   "metadata": {},
   "outputs": [
    {
     "data": {
      "text/plain": [
       "560"
      ]
     },
     "execution_count": 4,
     "metadata": {},
     "output_type": "execute_result"
    }
   ],
   "source": [
    "# List for holding lat_lngs and cities\n",
    "lat_lngs = []\n",
    "cities = []\n",
    "\n",
    "# Create a set of random lat and lng combinations\n",
    "lats = np.random.uniform(lat_range[0], lat_range[1], size=1500)\n",
    "lngs = np.random.uniform(lng_range[0], lng_range[1], size=1500)\n",
    "lat_lngs = zip(lats, lngs)\n",
    "\n",
    "# Identify nearest city for each lat, lng combination\n",
    "for lat_lng in lat_lngs:\n",
    "    city = citipy.nearest_city(lat_lng[0], lat_lng[1]).city_name\n",
    "    \n",
    "    # If the city is unique, then add it to a our cities list\n",
    "    if city not in cities:\n",
    "        cities.append(city)\n",
    "\n",
    "# Print the city count to confirm sufficient count\n",
    "len(cities)\n",
    "\n"
   ]
  },
  {
   "cell_type": "markdown",
   "metadata": {},
   "source": [
    "### Perform API Calls\n",
    "* Perform a weather check on each city using a series of successive API calls.\n",
    "* Include a print log of each city as it'sbeing processed (with the city number and city name).\n"
   ]
  },
  {
   "cell_type": "code",
   "execution_count": 5,
   "metadata": {
    "scrolled": true
   },
   "outputs": [
    {
     "name": "stdout",
     "output_type": "stream",
     "text": [
      "vaini\n",
      "calabozo\n",
      "port elizabeth\n",
      "ushuaia\n",
      "kapaa\n",
      "salalah\n",
      "hithadhoo\n",
      "severo-kurilsk\n",
      "lebu\n",
      "bandarbeyla\n",
      "hermanus\n",
      "rikitea\n",
      "havelock\n",
      "port lincoln\n",
      "avarua\n",
      "new norfolk\n",
      "mataura\n",
      "rocha\n",
      "luderitz\n",
      "hobart\n",
      "gamboula\n",
      "tuatapere\n",
      "bluff\n",
      "kavieng\n",
      "port-cartier\n",
      "saint-pierre\n",
      "kahului\n",
      "arraial do cabo\n",
      "cape town\n",
      "city not found\n",
      "acapulco\n",
      "dingle\n",
      "sur\n",
      "touros\n",
      "thompson\n",
      "inhambupe\n",
      "jalu\n",
      "hoquiam\n",
      "buala\n",
      "koslan\n",
      "punta arenas\n",
      "chokurdakh\n",
      "lagoa\n",
      "skibbereen\n",
      "ponta do sol\n",
      "medvedevo\n",
      "mar del plata\n",
      "comodoro rivadavia\n",
      "tasiilaq\n",
      "jamestown\n",
      "clyde river\n",
      "city not found\n",
      "coquimbo\n",
      "jeremie\n",
      "anadyr\n",
      "city not found\n",
      "kemijarvi\n",
      "umm kaddadah\n",
      "busselton\n",
      "oron\n",
      "kaeo\n",
      "castro\n",
      "atuona\n",
      "victoria\n",
      "barrow\n",
      "geraldton\n",
      "butaritari\n",
      "hilo\n",
      "albany\n",
      "pevek\n",
      "aripuana\n",
      "teguise\n",
      "city not found\n",
      "chaman\n",
      "joshimath\n",
      "andenes\n",
      "charters towers\n",
      "city not found\n",
      "kaitangata\n",
      "yellowknife\n",
      "vila velha\n",
      "samarai\n",
      "barquisimeto\n",
      "puerto ayora\n",
      "georgetown\n",
      "tuktoyaktuk\n",
      "norman wells\n",
      "beloha\n",
      "nantai\n",
      "saint-paul\n",
      "elko\n",
      "bredasdorp\n",
      "saint-philippe\n",
      "bontang\n",
      "vestmannaeyjar\n",
      "krasnoselkup\n",
      "bambous virieux\n",
      "henties bay\n",
      "horki\n",
      "city not found\n",
      "okhotsk\n",
      "city not found\n",
      "dikson\n",
      "city not found\n",
      "ribeira grande\n",
      "saskylakh\n",
      "shevchenkove\n",
      "portland\n",
      "ambulu\n",
      "viedma\n",
      "port hardy\n",
      "balkhash\n",
      "city not found\n",
      "constitucion\n",
      "city not found\n",
      "city not found\n",
      "qaqortoq\n",
      "krasnyy chikoy\n",
      "qaanaaq\n",
      "traverse city\n",
      "merta\n",
      "yanggu\n",
      "city not found\n",
      "da nang\n",
      "cabo san lucas\n",
      "gijon\n",
      "severnyy\n",
      "bud\n",
      "carnarvon\n",
      "khatanga\n",
      "bairiki\n",
      "beringovskiy\n",
      "cidreira\n",
      "mahebourg\n",
      "mehamn\n",
      "katsuura\n",
      "gien\n",
      "sao filipe\n",
      "fortuna\n",
      "talnakh\n",
      "riom\n",
      "east london\n",
      "nanortalik\n",
      "aksarka\n",
      "port alfred\n",
      "inirida\n",
      "saint-georges\n",
      "bengkulu\n",
      "caravelas\n",
      "palmer\n",
      "provideniya\n",
      "lufkin\n",
      "quatre cocos\n",
      "sohag\n",
      "bend\n",
      "caraquet\n",
      "anshun\n",
      "city not found\n",
      "nikolskoye\n",
      "ca mau\n",
      "helsinki\n",
      "atar\n",
      "faanui\n",
      "yumen\n",
      "bethel\n",
      "mahina\n",
      "pilar\n",
      "ilulissat\n",
      "city not found\n",
      "adrar\n",
      "kodiak\n",
      "tiksi\n",
      "los llanos de aridane\n",
      "guerrero negro\n",
      "muyezerskiy\n",
      "pacific grove\n",
      "middlebury\n",
      "estreito\n",
      "kavaratti\n",
      "hervey bay\n",
      "edd\n",
      "fukue\n",
      "dunedin\n",
      "troitsko-pechorsk\n",
      "roald\n",
      "pemberton\n",
      "city not found\n",
      "port blair\n",
      "bambui\n",
      "lasa\n",
      "povenets\n",
      "camana\n",
      "anderson\n",
      "tevriz\n",
      "kondinskoye\n",
      "pahrump\n",
      "richards bay\n",
      "paamiut\n",
      "yerbogachen\n",
      "rawson\n"
     ]
    }
   ],
   "source": [
    "#url=http://api.openweathermap.org/data/2.5/weather?appid=9e8ad36944a36af2b33e09daa8e352bb&units=metric&q=\n",
    "url=\"http://api.openweathermap.org/data/2.5/weather?\"\n",
    "units=\"imperial\"\n",
    "lat= []\n",
    "temp=[]\n",
    "cityname=[]\n",
    "humidity=[]\n",
    "clouds=[]\n",
    "windspeed=[]\n",
    "country=[]\n",
    "long=[]\n",
    "date=[]\n",
    "#Query URL\n",
    "query_url= f\"{url}appid={weather_api_key}&units={units}&q=\"\n",
    "for city in cities[:200]:\n",
    "    \n",
    "    \n",
    "    try:\n",
    "        response = requests.get(query_url+city).json()\n",
    "        lat.append(response['coord']['lat'])\n",
    "        temp.append(response['main']['temp'])\n",
    "        cityname.append(city)\n",
    "        humidity.append(response['main']['humidity'])\n",
    "        clouds.append(response['clouds']['all'])\n",
    "        windspeed.append(response['wind']['speed'])\n",
    "        country.append(response['sys']['country'])\n",
    "        long.append(response['coord']['lon'])\n",
    "        date.append(response['dt'])\n",
    "        print(city)\n",
    "    except:\n",
    "        print(\"city not found\")\n",
    "        pass\n",
    "  \n"
   ]
  },
  {
   "cell_type": "code",
   "execution_count": null,
   "metadata": {},
   "outputs": [],
   "source": []
  },
  {
   "cell_type": "markdown",
   "metadata": {},
   "source": [
    "### Convert Raw Data to DataFrame\n",
    "* Export the city data into a .csv.\n",
    "* Display the DataFrame"
   ]
  },
  {
   "cell_type": "code",
   "execution_count": 6,
   "metadata": {},
   "outputs": [
    {
     "data": {
      "text/html": [
       "<div>\n",
       "<style scoped>\n",
       "    .dataframe tbody tr th:only-of-type {\n",
       "        vertical-align: middle;\n",
       "    }\n",
       "\n",
       "    .dataframe tbody tr th {\n",
       "        vertical-align: top;\n",
       "    }\n",
       "\n",
       "    .dataframe thead th {\n",
       "        text-align: right;\n",
       "    }\n",
       "</style>\n",
       "<table border=\"1\" class=\"dataframe\">\n",
       "  <thead>\n",
       "    <tr style=\"text-align: right;\">\n",
       "      <th></th>\n",
       "      <th>City</th>\n",
       "      <th>Country</th>\n",
       "      <th>Date</th>\n",
       "      <th>Longitude</th>\n",
       "      <th>Latitude</th>\n",
       "      <th>Temperature</th>\n",
       "      <th>Humidity</th>\n",
       "      <th>Cloudiness</th>\n",
       "      <th>Wind Speed</th>\n",
       "    </tr>\n",
       "  </thead>\n",
       "  <tbody>\n",
       "    <tr>\n",
       "      <th>0</th>\n",
       "      <td>vaini</td>\n",
       "      <td>TO</td>\n",
       "      <td>1619723937</td>\n",
       "      <td>-175.2000</td>\n",
       "      <td>-21.2000</td>\n",
       "      <td>75.20</td>\n",
       "      <td>100</td>\n",
       "      <td>90</td>\n",
       "      <td>4.61</td>\n",
       "    </tr>\n",
       "    <tr>\n",
       "      <th>1</th>\n",
       "      <td>calabozo</td>\n",
       "      <td>VE</td>\n",
       "      <td>1619723938</td>\n",
       "      <td>-67.4293</td>\n",
       "      <td>8.9242</td>\n",
       "      <td>71.06</td>\n",
       "      <td>93</td>\n",
       "      <td>100</td>\n",
       "      <td>9.82</td>\n",
       "    </tr>\n",
       "    <tr>\n",
       "      <th>2</th>\n",
       "      <td>port elizabeth</td>\n",
       "      <td>ZA</td>\n",
       "      <td>1619723938</td>\n",
       "      <td>25.5701</td>\n",
       "      <td>-33.9180</td>\n",
       "      <td>57.20</td>\n",
       "      <td>94</td>\n",
       "      <td>20</td>\n",
       "      <td>12.66</td>\n",
       "    </tr>\n",
       "    <tr>\n",
       "      <th>3</th>\n",
       "      <td>ushuaia</td>\n",
       "      <td>AR</td>\n",
       "      <td>1619723927</td>\n",
       "      <td>-68.3000</td>\n",
       "      <td>-54.8000</td>\n",
       "      <td>42.80</td>\n",
       "      <td>56</td>\n",
       "      <td>20</td>\n",
       "      <td>3.44</td>\n",
       "    </tr>\n",
       "    <tr>\n",
       "      <th>4</th>\n",
       "      <td>kapaa</td>\n",
       "      <td>US</td>\n",
       "      <td>1619723939</td>\n",
       "      <td>-159.3190</td>\n",
       "      <td>22.0752</td>\n",
       "      <td>74.75</td>\n",
       "      <td>69</td>\n",
       "      <td>40</td>\n",
       "      <td>14.97</td>\n",
       "    </tr>\n",
       "    <tr>\n",
       "      <th>5</th>\n",
       "      <td>salalah</td>\n",
       "      <td>OM</td>\n",
       "      <td>1619723939</td>\n",
       "      <td>54.0924</td>\n",
       "      <td>17.0151</td>\n",
       "      <td>84.20</td>\n",
       "      <td>79</td>\n",
       "      <td>20</td>\n",
       "      <td>6.91</td>\n",
       "    </tr>\n",
       "    <tr>\n",
       "      <th>6</th>\n",
       "      <td>hithadhoo</td>\n",
       "      <td>MV</td>\n",
       "      <td>1619723939</td>\n",
       "      <td>73.0833</td>\n",
       "      <td>-0.6000</td>\n",
       "      <td>83.84</td>\n",
       "      <td>69</td>\n",
       "      <td>100</td>\n",
       "      <td>6.42</td>\n",
       "    </tr>\n",
       "    <tr>\n",
       "      <th>7</th>\n",
       "      <td>severo-kurilsk</td>\n",
       "      <td>RU</td>\n",
       "      <td>1619723390</td>\n",
       "      <td>156.1250</td>\n",
       "      <td>50.6789</td>\n",
       "      <td>34.93</td>\n",
       "      <td>88</td>\n",
       "      <td>44</td>\n",
       "      <td>6.46</td>\n",
       "    </tr>\n",
       "    <tr>\n",
       "      <th>8</th>\n",
       "      <td>lebu</td>\n",
       "      <td>CL</td>\n",
       "      <td>1619723350</td>\n",
       "      <td>-73.6500</td>\n",
       "      <td>-37.6167</td>\n",
       "      <td>61.21</td>\n",
       "      <td>76</td>\n",
       "      <td>100</td>\n",
       "      <td>5.66</td>\n",
       "    </tr>\n",
       "    <tr>\n",
       "      <th>9</th>\n",
       "      <td>bandarbeyla</td>\n",
       "      <td>SO</td>\n",
       "      <td>1619723940</td>\n",
       "      <td>50.8122</td>\n",
       "      <td>9.4942</td>\n",
       "      <td>83.71</td>\n",
       "      <td>75</td>\n",
       "      <td>66</td>\n",
       "      <td>10.45</td>\n",
       "    </tr>\n",
       "    <tr>\n",
       "      <th>10</th>\n",
       "      <td>hermanus</td>\n",
       "      <td>ZA</td>\n",
       "      <td>1619723525</td>\n",
       "      <td>19.2345</td>\n",
       "      <td>-34.4187</td>\n",
       "      <td>55.00</td>\n",
       "      <td>84</td>\n",
       "      <td>96</td>\n",
       "      <td>6.46</td>\n",
       "    </tr>\n",
       "    <tr>\n",
       "      <th>11</th>\n",
       "      <td>rikitea</td>\n",
       "      <td>PF</td>\n",
       "      <td>1619723338</td>\n",
       "      <td>-134.9692</td>\n",
       "      <td>-23.1203</td>\n",
       "      <td>76.08</td>\n",
       "      <td>71</td>\n",
       "      <td>100</td>\n",
       "      <td>10.11</td>\n",
       "    </tr>\n",
       "    <tr>\n",
       "      <th>12</th>\n",
       "      <td>havelock</td>\n",
       "      <td>US</td>\n",
       "      <td>1619723846</td>\n",
       "      <td>-76.9013</td>\n",
       "      <td>34.8791</td>\n",
       "      <td>76.37</td>\n",
       "      <td>57</td>\n",
       "      <td>75</td>\n",
       "      <td>19.57</td>\n",
       "    </tr>\n",
       "    <tr>\n",
       "      <th>13</th>\n",
       "      <td>port lincoln</td>\n",
       "      <td>AU</td>\n",
       "      <td>1619723941</td>\n",
       "      <td>135.8667</td>\n",
       "      <td>-34.7333</td>\n",
       "      <td>63.63</td>\n",
       "      <td>70</td>\n",
       "      <td>0</td>\n",
       "      <td>9.35</td>\n",
       "    </tr>\n",
       "    <tr>\n",
       "      <th>14</th>\n",
       "      <td>avarua</td>\n",
       "      <td>CK</td>\n",
       "      <td>1619723941</td>\n",
       "      <td>-159.7750</td>\n",
       "      <td>-21.2078</td>\n",
       "      <td>80.60</td>\n",
       "      <td>83</td>\n",
       "      <td>40</td>\n",
       "      <td>10.36</td>\n",
       "    </tr>\n",
       "    <tr>\n",
       "      <th>15</th>\n",
       "      <td>new norfolk</td>\n",
       "      <td>AU</td>\n",
       "      <td>1619723941</td>\n",
       "      <td>147.0587</td>\n",
       "      <td>-42.7826</td>\n",
       "      <td>52.07</td>\n",
       "      <td>91</td>\n",
       "      <td>16</td>\n",
       "      <td>2.01</td>\n",
       "    </tr>\n",
       "    <tr>\n",
       "      <th>16</th>\n",
       "      <td>mataura</td>\n",
       "      <td>NZ</td>\n",
       "      <td>1619723942</td>\n",
       "      <td>168.8643</td>\n",
       "      <td>-46.1927</td>\n",
       "      <td>51.01</td>\n",
       "      <td>95</td>\n",
       "      <td>100</td>\n",
       "      <td>10.00</td>\n",
       "    </tr>\n",
       "    <tr>\n",
       "      <th>17</th>\n",
       "      <td>rocha</td>\n",
       "      <td>UY</td>\n",
       "      <td>1619723942</td>\n",
       "      <td>-54.3333</td>\n",
       "      <td>-34.4833</td>\n",
       "      <td>72.28</td>\n",
       "      <td>49</td>\n",
       "      <td>0</td>\n",
       "      <td>2.08</td>\n",
       "    </tr>\n",
       "    <tr>\n",
       "      <th>18</th>\n",
       "      <td>luderitz</td>\n",
       "      <td>NA</td>\n",
       "      <td>1619723943</td>\n",
       "      <td>15.1594</td>\n",
       "      <td>-26.6481</td>\n",
       "      <td>59.36</td>\n",
       "      <td>65</td>\n",
       "      <td>0</td>\n",
       "      <td>23.80</td>\n",
       "    </tr>\n",
       "    <tr>\n",
       "      <th>19</th>\n",
       "      <td>hobart</td>\n",
       "      <td>AU</td>\n",
       "      <td>1619723944</td>\n",
       "      <td>147.3294</td>\n",
       "      <td>-42.8794</td>\n",
       "      <td>53.55</td>\n",
       "      <td>94</td>\n",
       "      <td>90</td>\n",
       "      <td>5.75</td>\n",
       "    </tr>\n",
       "  </tbody>\n",
       "</table>\n",
       "</div>"
      ],
      "text/plain": [
       "              City Country        Date  Longitude  Latitude  Temperature  \\\n",
       "0            vaini      TO  1619723937  -175.2000  -21.2000        75.20   \n",
       "1         calabozo      VE  1619723938   -67.4293    8.9242        71.06   \n",
       "2   port elizabeth      ZA  1619723938    25.5701  -33.9180        57.20   \n",
       "3          ushuaia      AR  1619723927   -68.3000  -54.8000        42.80   \n",
       "4            kapaa      US  1619723939  -159.3190   22.0752        74.75   \n",
       "5          salalah      OM  1619723939    54.0924   17.0151        84.20   \n",
       "6        hithadhoo      MV  1619723939    73.0833   -0.6000        83.84   \n",
       "7   severo-kurilsk      RU  1619723390   156.1250   50.6789        34.93   \n",
       "8             lebu      CL  1619723350   -73.6500  -37.6167        61.21   \n",
       "9      bandarbeyla      SO  1619723940    50.8122    9.4942        83.71   \n",
       "10        hermanus      ZA  1619723525    19.2345  -34.4187        55.00   \n",
       "11         rikitea      PF  1619723338  -134.9692  -23.1203        76.08   \n",
       "12        havelock      US  1619723846   -76.9013   34.8791        76.37   \n",
       "13    port lincoln      AU  1619723941   135.8667  -34.7333        63.63   \n",
       "14          avarua      CK  1619723941  -159.7750  -21.2078        80.60   \n",
       "15     new norfolk      AU  1619723941   147.0587  -42.7826        52.07   \n",
       "16         mataura      NZ  1619723942   168.8643  -46.1927        51.01   \n",
       "17           rocha      UY  1619723942   -54.3333  -34.4833        72.28   \n",
       "18        luderitz      NA  1619723943    15.1594  -26.6481        59.36   \n",
       "19          hobart      AU  1619723944   147.3294  -42.8794        53.55   \n",
       "\n",
       "    Humidity  Cloudiness  Wind Speed  \n",
       "0        100          90        4.61  \n",
       "1         93         100        9.82  \n",
       "2         94          20       12.66  \n",
       "3         56          20        3.44  \n",
       "4         69          40       14.97  \n",
       "5         79          20        6.91  \n",
       "6         69         100        6.42  \n",
       "7         88          44        6.46  \n",
       "8         76         100        5.66  \n",
       "9         75          66       10.45  \n",
       "10        84          96        6.46  \n",
       "11        71         100       10.11  \n",
       "12        57          75       19.57  \n",
       "13        70           0        9.35  \n",
       "14        83          40       10.36  \n",
       "15        91          16        2.01  \n",
       "16        95         100       10.00  \n",
       "17        49           0        2.08  \n",
       "18        65           0       23.80  \n",
       "19        94          90        5.75  "
      ]
     },
     "execution_count": 6,
     "metadata": {},
     "output_type": "execute_result"
    }
   ],
   "source": [
    "weather_dict= {\n",
    "            \"City\": cityname,\n",
    "            \"Country\":country,\n",
    "            \"Date\":date,\n",
    "            \"Longitude\":long,\n",
    "            \"Latitude\":   lat,\n",
    "            \"Temperature\": temp,\n",
    "            \"Humidity\": humidity,\n",
    "            \"Cloudiness\": clouds,\n",
    "            \"Wind Speed\": windspeed\n",
    "            \n",
    "}\n",
    "weather_data= pd.DataFrame(weather_dict)\n",
    "\n",
    "weather_data.head(20)"
   ]
  },
  {
   "cell_type": "code",
   "execution_count": 7,
   "metadata": {},
   "outputs": [],
   "source": [
    "weather_data.to_csv('citydatainfo.csv')"
   ]
  },
  {
   "cell_type": "markdown",
   "metadata": {},
   "source": [
    "## Plotting the Data\n",
    "* Use proper labeling of the plots using plot titles (including date of analysis) and axes labels.\n",
    "* Save the plotted figures as .pngs."
   ]
  },
  {
   "cell_type": "markdown",
   "metadata": {},
   "source": [
    "## Latitude vs. Temperature Plot"
   ]
  },
  {
   "cell_type": "code",
   "execution_count": 8,
   "metadata": {
    "scrolled": true
   },
   "outputs": [
    {
     "data": {
      "text/plain": [
       "Text(0, 0.5, 'Latitude')"
      ]
     },
     "execution_count": 8,
     "metadata": {},
     "output_type": "execute_result"
    },
    {
     "data": {
      "image/png": "[encoded data removed]",
      "text/plain": [
       "<Figure size 432x288 with 1 Axes>"
      ]
     },
     "metadata": {
      "needs_background": "light"
     },
     "output_type": "display_data"
    }
   ],
   "source": [
    "plt.scatter(weather_data[\"Temperature\"],weather_data[\"Latitude\"])\n",
    "plt.xlabel(\"Temperature\")\n",
    "plt.ylabel(\"Latitude\")"
   ]
  },
  {
   "cell_type": "code",
   "execution_count": 9,
   "metadata": {},
   "outputs": [],
   "source": [
    "#There seems to be a negative correlation between high latitudes and lower temperatures "
   ]
  },
  {
   "cell_type": "markdown",
   "metadata": {},
   "source": [
    "## Latitude vs. Humidity Plot"
   ]
  },
  {
   "cell_type": "code",
   "execution_count": 10,
   "metadata": {},
   "outputs": [
    {
     "data": {
      "text/plain": [
       "Text(0, 0.5, 'Latitude')"
      ]
     },
     "execution_count": 10,
     "metadata": {},
     "output_type": "execute_result"
    },
    {
     "data": {
      "image/png": "[encoded data removed]",
      "text/plain": [
       "<Figure size 432x288 with 1 Axes>"
      ]
     },
     "metadata": {
      "needs_background": "light"
     },
     "output_type": "display_data"
    }
   ],
   "source": [
    "plt.scatter(weather_data[\"Latitude\"],weather_data[\"Humidity\"])\n",
    "plt.xlabel(\"Humidity\")\n",
    "plt.ylabel(\"Latitude\")"
   ]
  },
  {
   "cell_type": "code",
   "execution_count": 11,
   "metadata": {},
   "outputs": [],
   "source": [
    "# There doesn't seem to be a correlation between humidity and latitude. "
   ]
  },
  {
   "cell_type": "markdown",
   "metadata": {},
   "source": [
    "## Latitude vs. Cloudiness Plot"
   ]
  },
  {
   "cell_type": "code",
   "execution_count": 12,
   "metadata": {},
   "outputs": [
    {
     "data": {
      "text/plain": [
       "Text(0, 0.5, 'Cloudiness')"
      ]
     },
     "execution_count": 12,
     "metadata": {},
     "output_type": "execute_result"
    },
    {
     "data": {
      "image/png": "[encoded data removed]",
      "text/plain": [
       "<Figure size 432x288 with 1 Axes>"
      ]
     },
     "metadata": {
      "needs_background": "light"
     },
     "output_type": "display_data"
    }
   ],
   "source": [
    "plt.scatter(weather_data[\"Latitude\"],weather_data[\"Cloudiness\"])\n",
    "plt.xlabel(\"Latitude\")\n",
    "plt.ylabel(\"Cloudiness\")"
   ]
  },
  {
   "cell_type": "code",
   "execution_count": 13,
   "metadata": {},
   "outputs": [],
   "source": [
    "#Latitude doesn't have an impact on how cloudy a city is. "
   ]
  },
  {
   "cell_type": "markdown",
   "metadata": {},
   "source": [
    "## Latitude vs. Wind Speed Plot"
   ]
  },
  {
   "cell_type": "code",
   "execution_count": 14,
   "metadata": {},
   "outputs": [
    {
     "data": {
      "text/plain": [
       "Text(0, 0.5, 'Wind Speed')"
      ]
     },
     "execution_count": 14,
     "metadata": {},
     "output_type": "execute_result"
    },
    {
     "data": {
      "image/png": "[encoded data removed]",
      "text/plain": [
       "<Figure size 432x288 with 1 Axes>"
      ]
     },
     "metadata": {
      "needs_background": "light"
     },
     "output_type": "display_data"
    }
   ],
   "source": [
    "plt.scatter(weather_data[\"Latitude\"],weather_data[\"Wind Speed\"])\n",
    "plt.xlabel(\"Latitude\")\n",
    "plt.ylabel(\"Wind Speed\")"
   ]
  },
  {
   "cell_type": "code",
   "execution_count": 15,
   "metadata": {},
   "outputs": [],
   "source": [
    "#The majority of wind speed is under 15 MPH"
   ]
  },
  {
   "cell_type": "markdown",
   "metadata": {},
   "source": [
    "## Linear Regression"
   ]
  },
  {
   "cell_type": "code",
   "execution_count": 16,
   "metadata": {},
   "outputs": [],
   "source": [
    "\n",
    "def linear_hemisphere (x_values,y_values,title,coordinates):\n",
    "    (slope, intercept, rvalue, pvalue, stderr) = linregress(x_values, y_values)\n",
    "    regress_values = x_values * slope + intercept\n",
    "    line_eq = \"y = \" + str(round(slope,2)) + \"x + \" + str(round(intercept,2))\n",
    "    plt.scatter(x_values,y_values)\n",
    "    plt.plot(x_values,regress_values,\"r-\")\n",
    "    plt.annotate(line_eq,coordinates,fontsize=15,color=\"red\")\n",
    "    plt.xlabel(\"latitude\")\n",
    "    plt.ylabel(title)\n",
    "    plt.show()"
   ]
  },
  {
   "cell_type": "markdown",
   "metadata": {},
   "source": [
    "####  Northern Hemisphere - Max Temp vs. Latitude Linear Regression"
   ]
  },
  {
   "cell_type": "code",
   "execution_count": 17,
   "metadata": {},
   "outputs": [
    {
     "data": {
      "image/png": "[encoded data removed]",
      "text/plain": [
       "<Figure size 432x288 with 1 Axes>"
      ]
     },
     "metadata": {
      "needs_background": "light"
     },
     "output_type": "display_data"
    }
   ],
   "source": [
    "north_hemisphere_data= weather_data.loc[weather_data[\"Latitude\"]>=0]\n",
    "south_hemisphere_data=weather_data.loc[weather_data[\"Latitude\"] <=0]\n",
    "x_values=north_hemisphere_data[\"Latitude\"]\n",
    "y_values=north_hemisphere_data[\"Temperature\"]\n",
    "linear_hemisphere(x_values,y_values,\"Max Temp\",(6,15))"
   ]
  },
  {
   "cell_type": "code",
   "execution_count": 18,
   "metadata": {},
   "outputs": [],
   "source": [
    "#There is a negative correlation with max temp and latitude in the northern hemisphere"
   ]
  },
  {
   "cell_type": "markdown",
   "metadata": {},
   "source": [
    "####  Southern Hemisphere - Max Temp vs. Latitude Linear Regression"
   ]
  },
  {
   "cell_type": "code",
   "execution_count": 19,
   "metadata": {},
   "outputs": [
    {
     "data": {
      "image/png": "[encoded data removed]",
      "text/plain": [
       "<Figure size 432x288 with 1 Axes>"
      ]
     },
     "metadata": {
      "needs_background": "light"
     },
     "output_type": "display_data"
    }
   ],
   "source": [
    "x_values=south_hemisphere_data[\"Latitude\"]\n",
    "y_values=south_hemisphere_data[\"Temperature\"]\n",
    "linear_hemisphere(x_values,y_values,\"Max Temp\", (6,15))"
   ]
  },
  {
   "cell_type": "code",
   "execution_count": 20,
   "metadata": {},
   "outputs": [],
   "source": [
    "#There is a positive correlation between latitude and max temp in the southern hemisphere. "
   ]
  },
  {
   "cell_type": "markdown",
   "metadata": {},
   "source": [
    "####  Northern Hemisphere - Humidity (%) vs. Latitude Linear Regression"
   ]
  },
  {
   "cell_type": "code",
   "execution_count": 21,
   "metadata": {},
   "outputs": [
    {
     "data": {
      "image/png": "[encoded data removed]",
      "text/plain": [
       "<Figure size 432x288 with 1 Axes>"
      ]
     },
     "metadata": {
      "needs_background": "light"
     },
     "output_type": "display_data"
    }
   ],
   "source": [
    "x_values=north_hemisphere_data[\"Latitude\"]\n",
    "y_values=north_hemisphere_data[\"Humidity\"]\n",
    "linear_hemisphere(x_values,y_values,\"Humidity\",(6,15))"
   ]
  },
  {
   "cell_type": "code",
   "execution_count": 22,
   "metadata": {},
   "outputs": [],
   "source": [
    "#THere is no seemingly obvious correlation between humidity and latitude in the northern hemisphere."
   ]
  },
  {
   "cell_type": "markdown",
   "metadata": {},
   "source": [
    "####  Southern Hemisphere - Humidity (%) vs. Latitude Linear Regression"
   ]
  },
  {
   "cell_type": "code",
   "execution_count": 23,
   "metadata": {},
   "outputs": [
    {
     "data": {
      "image/png": "[encoded data removed]",
      "text/plain": [
       "<Figure size 432x288 with 1 Axes>"
      ]
     },
     "metadata": {
      "needs_background": "light"
     },
     "output_type": "display_data"
    }
   ],
   "source": [
    "x_values=south_hemisphere_data[\"Latitude\"]\n",
    "y_values=south_hemisphere_data[\"Humidity\"]\n",
    "linear_hemisphere(x_values,y_values,\"Humidity\",(6,15))"
   ]
  },
  {
   "cell_type": "markdown",
   "metadata": {},
   "source": [
    "####  Northern Hemisphere - Cloudiness (%) vs. Latitude Linear Regression"
   ]
  },
  {
   "cell_type": "code",
   "execution_count": 24,
   "metadata": {},
   "outputs": [
    {
     "data": {
      "image/png": "[encoded data removed]",
      "text/plain": [
       "<Figure size 432x288 with 1 Axes>"
      ]
     },
     "metadata": {
      "needs_background": "light"
     },
     "output_type": "display_data"
    }
   ],
   "source": [
    "x_values=north_hemisphere_data[\"Latitude\"]\n",
    "y_values=north_hemisphere_data[\"Cloudiness\"]\n",
    "linear_hemisphere(x_values,y_values,\"Cloudiness\",(6,15))"
   ]
  },
  {
   "cell_type": "markdown",
   "metadata": {},
   "source": [
    "####  Southern Hemisphere - Cloudiness (%) vs. Latitude Linear Regression"
   ]
  },
  {
   "cell_type": "code",
   "execution_count": 25,
   "metadata": {},
   "outputs": [
    {
     "data": {
      "image/png": "[encoded data removed]",
      "text/plain": [
       "<Figure size 432x288 with 1 Axes>"
      ]
     },
     "metadata": {
      "needs_background": "light"
     },
     "output_type": "display_data"
    }
   ],
   "source": [
    "x_values=south_hemisphere_data[\"Latitude\"]\n",
    "y_values=south_hemisphere_data[\"Cloudiness\"]\n",
    "linear_hemisphere(x_values,y_values,\"Cloudiness\",(6,15))"
   ]
  },
  {
   "cell_type": "markdown",
   "metadata": {},
   "source": [
    "####  Northern Hemisphere - Wind Speed (mph) vs. Latitude Linear Regression"
   ]
  },
  {
   "cell_type": "code",
   "execution_count": 26,
   "metadata": {},
   "outputs": [
    {
     "data": {
      "image/png": "[encoded data removed]",
      "text/plain": [
       "<Figure size 432x288 with 1 Axes>"
      ]
     },
     "metadata": {
      "needs_background": "light"
     },
     "output_type": "display_data"
    }
   ],
   "source": [
    "x_values=north_hemisphere_data[\"Latitude\"]\n",
    "y_values=north_hemisphere_data[\"Wind Speed\"]\n",
    "linear_hemisphere(x_values,y_values,\"Wind Speed\",(6,15))"
   ]
  },
  {
   "cell_type": "markdown",
   "metadata": {},
   "source": [
    "####  Southern Hemisphere - Wind Speed (mph) vs. Latitude Linear Regression"
   ]
  },
  {
   "cell_type": "code",
   "execution_count": 27,
   "metadata": {},
   "outputs": [
    {
     "data": {
      "image/png": "[encoded data removed]",
      "text/plain": [
       "<Figure size 432x288 with 1 Axes>"
      ]
     },
     "metadata": {
      "needs_background": "light"
     },
     "output_type": "display_data"
    }
   ],
   "source": [
    "x_values=south_hemisphere_data[\"Latitude\"]\n",
    "y_values=south_hemisphere_data[\"Wind Speed\"]\n",
    "linear_hemisphere(x_values,y_values,\"Wind Speed\",(6,15))"
   ]
  },
  {
   "cell_type": "code",
   "execution_count": null,
   "metadata": {},
   "outputs": [],
   "source": []
  }
 ],
 "metadata": {
  "anaconda-cloud": {},
  "kernel_info": {
   "name": "python3"
  },
  "kernelspec": {
   "display_name": "Python 3",
   "language": "python",
   "name": "python3"
  },
  "language_info": {
   "codemirror_mode": {
    "name": "ipython",
    "version": 3
   },
   "file_extension": ".py",
   "mimetype": "text/x-python",
   "name": "python",
   "nbconvert_exporter": "python",
   "pygments_lexer": "ipython3",
   "version": "3.8.5"
  },
  "latex_envs": {
   "LaTeX_envs_menu_present": true,
   "autoclose": false,
   "autocomplete": true,
   "bibliofile": "biblio.bib",
   "cite_by": "apalike",
   "current_citInitial": 1,
   "eqLabelWithNumbers": true,
   "eqNumInitial": 1,
   "hotkeys": {
    "equation": "Ctrl-E",
    "itemize": "Ctrl-I"
   },
   "labels_anchors": false,
   "latex_user_defs": false,
   "report_style_numbering": false,
   "user_envs_cfg": false
  },
  "nteract": {
   "version": "0.12.3"
  }
 },
 "nbformat": 4,
 "nbformat_minor": 4
}
