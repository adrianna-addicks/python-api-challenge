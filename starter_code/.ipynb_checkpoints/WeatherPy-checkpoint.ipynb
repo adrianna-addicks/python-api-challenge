{
 "cells": [
  {
   "cell_type": "markdown",
   "metadata": {},
   "source": [
    "# WeatherPy\n",
    "----\n",
    "\n",
    "#### Note\n",
    "* Instructions have been included for each segment. You do not have to follow them exactly, but they are included to help you think through the steps."
   ]
  },
  {
   "cell_type": "code",
   "execution_count": 5,
   "metadata": {
    "scrolled": true
   },
   "outputs": [],
   "source": [
    "# Dependencies and Setup\n",
    "import matplotlib.pyplot as plt\n",
    "import pandas as pd\n",
    "import numpy as np\n",
    "import requests\n",
    "import time\n",
    "from scipy.stats import linregress\n",
    "# Import API key\n",
    "from api_keys import weather_api_key\n",
    "\n",
    "# Incorporated citipy to determine city based on latitude and longitude\n",
    "from citipy import citipy\n",
    "\n",
    "# Output File (CSV)\n",
    "output_data_file = \"output_data/cities.csv\"\n",
    "\n",
    "# Range of latitudes and longitudes\n",
    "lat_range = (-90, 90)\n",
    "lng_range = (-180, 180)"
   ]
  },
  {
   "cell_type": "markdown",
   "metadata": {},
   "source": [
    "## Generate Cities List"
   ]
  },
  {
   "cell_type": "code",
   "execution_count": 6,
   "metadata": {},
   "outputs": [
    {
     "data": {
      "text/plain": [
       "635"
      ]
     },
     "execution_count": 6,
     "metadata": {},
     "output_type": "execute_result"
    }
   ],
   "source": [
    "# List for holding lat_lngs and cities\n",
    "lat_lngs = []\n",
    "cities = []\n",
    "\n",
    "# Create a set of random lat and lng combinations\n",
    "lats = np.random.uniform(lat_range[0], lat_range[1], size=1500)\n",
    "lngs = np.random.uniform(lng_range[0], lng_range[1], size=1500)\n",
    "lat_lngs = zip(lats, lngs)\n",
    "\n",
    "# Identify nearest city for each lat, lng combination\n",
    "for lat_lng in lat_lngs:\n",
    "    city = citipy.nearest_city(lat_lng[0], lat_lng[1]).city_name\n",
    "    \n",
    "    # If the city is unique, then add it to a our cities list\n",
    "    if city not in cities:\n",
    "        cities.append(city)\n",
    "\n",
    "# Print the city count to confirm sufficient count\n",
    "len(cities)\n",
    "\n"
   ]
  },
  {
   "cell_type": "markdown",
   "metadata": {},
   "source": [
    "### Perform API Calls\n",
    "* Perform a weather check on each city using a series of successive API calls.\n",
    "* Include a print log of each city as it'sbeing processed (with the city number and city name).\n"
   ]
  },
  {
   "cell_type": "code",
   "execution_count": 7,
   "metadata": {
    "scrolled": true
   },
   "outputs": [
    {
     "name": "stdout",
     "output_type": "stream",
     "text": [
      "khatanga\n",
      "rossland\n",
      "cape town\n",
      "ohara\n",
      "hasaki\n",
      "thompson\n",
      "kenora\n",
      "atuona\n",
      "faanui\n",
      "ushuaia\n",
      "oksfjord\n",
      "calvinia\n",
      "kununurra\n",
      "dikson\n",
      "kivioli\n",
      "port hardy\n",
      "klaksvik\n",
      "albany\n",
      "rikitea\n",
      "city not found\n",
      "poum\n",
      "bluff\n",
      "samarai\n",
      "victoria\n",
      "fort nelson\n",
      "naze\n",
      "yaviza\n",
      "banjar\n",
      "city not found\n",
      "city not found\n",
      "georgetown\n",
      "city not found\n",
      "tuktoyaktuk\n",
      "kahului\n",
      "belaya gora\n",
      "busselton\n",
      "mahebourg\n",
      "hilo\n",
      "city not found\n",
      "kutulik\n",
      "saint-philippe\n",
      "makakilo city\n",
      "kisanga\n",
      "severo-kurilsk\n",
      "esperance\n",
      "sterling\n",
      "yellowknife\n",
      "carutapera\n",
      "pangnirtung\n",
      "beloha\n"
     ]
    }
   ],
   "source": [
    "#url=http://api.openweathermap.org/data/2.5/weather?appid=9e8ad36944a36af2b33e09daa8e352bb&units=metric&q=\n",
    "url=\"http://api.openweathermap.org/data/2.5/weather?\"\n",
    "units=\"imperial\"\n",
    "lat= []\n",
    "temp=[]\n",
    "cityname=[]\n",
    "humidity=[]\n",
    "clouds=[]\n",
    "windspeed=[]\n",
    "country=[]\n",
    "long=[]\n",
    "date=[]\n",
    "#Query URL\n",
    "query_url= f\"{url}appid={weather_api_key}&units={units}&q=\"\n",
    "for city in cities[:50]:\n",
    "    \n",
    "    \n",
    "    try:\n",
    "        response = requests.get(query_url+city).json()\n",
    "        lat.append(response['coord']['lat'])\n",
    "        temp.append(response['main']['temp'])\n",
    "        cityname.append(city)\n",
    "        humidity.append(response['main']['humidity'])\n",
    "        clouds.append(response['clouds']['all'])\n",
    "        windspeed.append(response['wind']['speed'])\n",
    "        country.append(response['sys']['country'])\n",
    "        long.append(response['coord']['lon'])\n",
    "        date.append(response['dt'])\n",
    "        print(city)\n",
    "    except:\n",
    "        print(\"city not found\")\n",
    "        pass\n",
    "  \n"
   ]
  },
  {
   "cell_type": "code",
   "execution_count": null,
   "metadata": {},
   "outputs": [],
   "source": []
  },
  {
   "cell_type": "markdown",
   "metadata": {},
   "source": [
    "### Convert Raw Data to DataFrame\n",
    "* Export the city data into a .csv.\n",
    "* Display the DataFrame"
   ]
  },
  {
   "cell_type": "code",
   "execution_count": 8,
   "metadata": {},
   "outputs": [
    {
     "data": {
      "text/html": [
       "<div>\n",
       "<style scoped>\n",
       "    .dataframe tbody tr th:only-of-type {\n",
       "        vertical-align: middle;\n",
       "    }\n",
       "\n",
       "    .dataframe tbody tr th {\n",
       "        vertical-align: top;\n",
       "    }\n",
       "\n",
       "    .dataframe thead th {\n",
       "        text-align: right;\n",
       "    }\n",
       "</style>\n",
       "<table border=\"1\" class=\"dataframe\">\n",
       "  <thead>\n",
       "    <tr style=\"text-align: right;\">\n",
       "      <th></th>\n",
       "      <th>City</th>\n",
       "      <th>Country</th>\n",
       "      <th>Date</th>\n",
       "      <th>Longitude</th>\n",
       "      <th>Latitude</th>\n",
       "      <th>Temperature</th>\n",
       "      <th>Humidity</th>\n",
       "      <th>Cloudiness</th>\n",
       "      <th>Wind Speed</th>\n",
       "    </tr>\n",
       "  </thead>\n",
       "  <tbody>\n",
       "    <tr>\n",
       "      <th>0</th>\n",
       "      <td>khatanga</td>\n",
       "      <td>RU</td>\n",
       "      <td>1619721246</td>\n",
       "      <td>102.5000</td>\n",
       "      <td>71.9667</td>\n",
       "      <td>29.97</td>\n",
       "      <td>88</td>\n",
       "      <td>100</td>\n",
       "      <td>11.18</td>\n",
       "    </tr>\n",
       "    <tr>\n",
       "      <th>1</th>\n",
       "      <td>rossland</td>\n",
       "      <td>CA</td>\n",
       "      <td>1619721246</td>\n",
       "      <td>-117.8022</td>\n",
       "      <td>49.0831</td>\n",
       "      <td>57.83</td>\n",
       "      <td>75</td>\n",
       "      <td>100</td>\n",
       "      <td>3.53</td>\n",
       "    </tr>\n",
       "    <tr>\n",
       "      <th>2</th>\n",
       "      <td>cape town</td>\n",
       "      <td>ZA</td>\n",
       "      <td>1619720764</td>\n",
       "      <td>18.4232</td>\n",
       "      <td>-33.9258</td>\n",
       "      <td>57.83</td>\n",
       "      <td>67</td>\n",
       "      <td>20</td>\n",
       "      <td>11.50</td>\n",
       "    </tr>\n",
       "    <tr>\n",
       "      <th>3</th>\n",
       "      <td>ohara</td>\n",
       "      <td>JP</td>\n",
       "      <td>1619721247</td>\n",
       "      <td>140.3833</td>\n",
       "      <td>35.2500</td>\n",
       "      <td>59.86</td>\n",
       "      <td>94</td>\n",
       "      <td>75</td>\n",
       "      <td>6.91</td>\n",
       "    </tr>\n",
       "    <tr>\n",
       "      <th>4</th>\n",
       "      <td>hasaki</td>\n",
       "      <td>JP</td>\n",
       "      <td>1619720783</td>\n",
       "      <td>140.8333</td>\n",
       "      <td>35.7333</td>\n",
       "      <td>59.61</td>\n",
       "      <td>94</td>\n",
       "      <td>75</td>\n",
       "      <td>6.91</td>\n",
       "    </tr>\n",
       "    <tr>\n",
       "      <th>5</th>\n",
       "      <td>thompson</td>\n",
       "      <td>CA</td>\n",
       "      <td>1619720981</td>\n",
       "      <td>-97.8558</td>\n",
       "      <td>55.7435</td>\n",
       "      <td>30.20</td>\n",
       "      <td>47</td>\n",
       "      <td>75</td>\n",
       "      <td>14.97</td>\n",
       "    </tr>\n",
       "    <tr>\n",
       "      <th>6</th>\n",
       "      <td>kenora</td>\n",
       "      <td>CA</td>\n",
       "      <td>1619721188</td>\n",
       "      <td>-94.4337</td>\n",
       "      <td>49.8167</td>\n",
       "      <td>39.20</td>\n",
       "      <td>52</td>\n",
       "      <td>90</td>\n",
       "      <td>10.36</td>\n",
       "    </tr>\n",
       "    <tr>\n",
       "      <th>7</th>\n",
       "      <td>atuona</td>\n",
       "      <td>PF</td>\n",
       "      <td>1619720775</td>\n",
       "      <td>-139.0333</td>\n",
       "      <td>-9.8000</td>\n",
       "      <td>78.80</td>\n",
       "      <td>74</td>\n",
       "      <td>19</td>\n",
       "      <td>8.08</td>\n",
       "    </tr>\n",
       "    <tr>\n",
       "      <th>8</th>\n",
       "      <td>faanui</td>\n",
       "      <td>PF</td>\n",
       "      <td>1619720968</td>\n",
       "      <td>-151.7500</td>\n",
       "      <td>-16.4833</td>\n",
       "      <td>81.54</td>\n",
       "      <td>71</td>\n",
       "      <td>61</td>\n",
       "      <td>7.58</td>\n",
       "    </tr>\n",
       "    <tr>\n",
       "      <th>9</th>\n",
       "      <td>ushuaia</td>\n",
       "      <td>AR</td>\n",
       "      <td>1619720844</td>\n",
       "      <td>-68.3000</td>\n",
       "      <td>-54.8000</td>\n",
       "      <td>44.60</td>\n",
       "      <td>53</td>\n",
       "      <td>20</td>\n",
       "      <td>4.61</td>\n",
       "    </tr>\n",
       "    <tr>\n",
       "      <th>10</th>\n",
       "      <td>oksfjord</td>\n",
       "      <td>NO</td>\n",
       "      <td>1619721248</td>\n",
       "      <td>22.3479</td>\n",
       "      <td>70.2396</td>\n",
       "      <td>28.40</td>\n",
       "      <td>69</td>\n",
       "      <td>75</td>\n",
       "      <td>8.05</td>\n",
       "    </tr>\n",
       "    <tr>\n",
       "      <th>11</th>\n",
       "      <td>calvinia</td>\n",
       "      <td>ZA</td>\n",
       "      <td>1619721248</td>\n",
       "      <td>19.7760</td>\n",
       "      <td>-31.4707</td>\n",
       "      <td>50.68</td>\n",
       "      <td>75</td>\n",
       "      <td>3</td>\n",
       "      <td>6.78</td>\n",
       "    </tr>\n",
       "    <tr>\n",
       "      <th>12</th>\n",
       "      <td>kununurra</td>\n",
       "      <td>AU</td>\n",
       "      <td>1619720955</td>\n",
       "      <td>128.7333</td>\n",
       "      <td>-15.7667</td>\n",
       "      <td>75.20</td>\n",
       "      <td>100</td>\n",
       "      <td>20</td>\n",
       "      <td>4.94</td>\n",
       "    </tr>\n",
       "    <tr>\n",
       "      <th>13</th>\n",
       "      <td>dikson</td>\n",
       "      <td>RU</td>\n",
       "      <td>1619720973</td>\n",
       "      <td>80.5464</td>\n",
       "      <td>73.5069</td>\n",
       "      <td>-1.08</td>\n",
       "      <td>99</td>\n",
       "      <td>46</td>\n",
       "      <td>6.17</td>\n",
       "    </tr>\n",
       "    <tr>\n",
       "      <th>14</th>\n",
       "      <td>kivioli</td>\n",
       "      <td>EE</td>\n",
       "      <td>1619721249</td>\n",
       "      <td>26.9711</td>\n",
       "      <td>59.3531</td>\n",
       "      <td>35.11</td>\n",
       "      <td>63</td>\n",
       "      <td>19</td>\n",
       "      <td>2.64</td>\n",
       "    </tr>\n",
       "    <tr>\n",
       "      <th>15</th>\n",
       "      <td>port hardy</td>\n",
       "      <td>CA</td>\n",
       "      <td>1619721249</td>\n",
       "      <td>-127.4199</td>\n",
       "      <td>50.6996</td>\n",
       "      <td>50.00</td>\n",
       "      <td>93</td>\n",
       "      <td>90</td>\n",
       "      <td>8.05</td>\n",
       "    </tr>\n",
       "    <tr>\n",
       "      <th>16</th>\n",
       "      <td>klaksvik</td>\n",
       "      <td>FO</td>\n",
       "      <td>1619721249</td>\n",
       "      <td>-6.5890</td>\n",
       "      <td>62.2266</td>\n",
       "      <td>37.40</td>\n",
       "      <td>81</td>\n",
       "      <td>40</td>\n",
       "      <td>10.36</td>\n",
       "    </tr>\n",
       "    <tr>\n",
       "      <th>17</th>\n",
       "      <td>albany</td>\n",
       "      <td>US</td>\n",
       "      <td>1619721063</td>\n",
       "      <td>-73.9662</td>\n",
       "      <td>42.6001</td>\n",
       "      <td>56.16</td>\n",
       "      <td>89</td>\n",
       "      <td>100</td>\n",
       "      <td>2.15</td>\n",
       "    </tr>\n",
       "    <tr>\n",
       "      <th>18</th>\n",
       "      <td>rikitea</td>\n",
       "      <td>PF</td>\n",
       "      <td>1619721250</td>\n",
       "      <td>-134.9692</td>\n",
       "      <td>-23.1203</td>\n",
       "      <td>76.08</td>\n",
       "      <td>71</td>\n",
       "      <td>100</td>\n",
       "      <td>10.11</td>\n",
       "    </tr>\n",
       "    <tr>\n",
       "      <th>19</th>\n",
       "      <td>poum</td>\n",
       "      <td>NC</td>\n",
       "      <td>1619721250</td>\n",
       "      <td>164.0167</td>\n",
       "      <td>-20.2333</td>\n",
       "      <td>75.22</td>\n",
       "      <td>58</td>\n",
       "      <td>11</td>\n",
       "      <td>11.90</td>\n",
       "    </tr>\n",
       "  </tbody>\n",
       "</table>\n",
       "</div>"
      ],
      "text/plain": [
       "          City Country        Date  Longitude  Latitude  Temperature  \\\n",
       "0     khatanga      RU  1619721246   102.5000   71.9667        29.97   \n",
       "1     rossland      CA  1619721246  -117.8022   49.0831        57.83   \n",
       "2    cape town      ZA  1619720764    18.4232  -33.9258        57.83   \n",
       "3        ohara      JP  1619721247   140.3833   35.2500        59.86   \n",
       "4       hasaki      JP  1619720783   140.8333   35.7333        59.61   \n",
       "5     thompson      CA  1619720981   -97.8558   55.7435        30.20   \n",
       "6       kenora      CA  1619721188   -94.4337   49.8167        39.20   \n",
       "7       atuona      PF  1619720775  -139.0333   -9.8000        78.80   \n",
       "8       faanui      PF  1619720968  -151.7500  -16.4833        81.54   \n",
       "9      ushuaia      AR  1619720844   -68.3000  -54.8000        44.60   \n",
       "10    oksfjord      NO  1619721248    22.3479   70.2396        28.40   \n",
       "11    calvinia      ZA  1619721248    19.7760  -31.4707        50.68   \n",
       "12   kununurra      AU  1619720955   128.7333  -15.7667        75.20   \n",
       "13      dikson      RU  1619720973    80.5464   73.5069        -1.08   \n",
       "14     kivioli      EE  1619721249    26.9711   59.3531        35.11   \n",
       "15  port hardy      CA  1619721249  -127.4199   50.6996        50.00   \n",
       "16    klaksvik      FO  1619721249    -6.5890   62.2266        37.40   \n",
       "17      albany      US  1619721063   -73.9662   42.6001        56.16   \n",
       "18     rikitea      PF  1619721250  -134.9692  -23.1203        76.08   \n",
       "19        poum      NC  1619721250   164.0167  -20.2333        75.22   \n",
       "\n",
       "    Humidity  Cloudiness  Wind Speed  \n",
       "0         88         100       11.18  \n",
       "1         75         100        3.53  \n",
       "2         67          20       11.50  \n",
       "3         94          75        6.91  \n",
       "4         94          75        6.91  \n",
       "5         47          75       14.97  \n",
       "6         52          90       10.36  \n",
       "7         74          19        8.08  \n",
       "8         71          61        7.58  \n",
       "9         53          20        4.61  \n",
       "10        69          75        8.05  \n",
       "11        75           3        6.78  \n",
       "12       100          20        4.94  \n",
       "13        99          46        6.17  \n",
       "14        63          19        2.64  \n",
       "15        93          90        8.05  \n",
       "16        81          40       10.36  \n",
       "17        89         100        2.15  \n",
       "18        71         100       10.11  \n",
       "19        58          11       11.90  "
      ]
     },
     "execution_count": 8,
     "metadata": {},
     "output_type": "execute_result"
    }
   ],
   "source": [
    "weather_dict= {\n",
    "            \"City\": cityname,\n",
    "            \"Country\":country,\n",
    "            \"Date\":date,\n",
    "            \"Longitude\":long,\n",
    "            \"Latitude\":   lat,\n",
    "            \"Temperature\": temp,\n",
    "            \"Humidity\": humidity,\n",
    "            \"Cloudiness\": clouds,\n",
    "            \"Wind Speed\": windspeed\n",
    "            \n",
    "}\n",
    "weather_data= pd.DataFrame(weather_dict)\n",
    "\n",
    "weather_data.head(20)"
   ]
  },
  {
   "cell_type": "code",
   "execution_count": 9,
   "metadata": {},
   "outputs": [],
   "source": [
    "weather_data.to_csv('citydatainfo.csv')"
   ]
  },
  {
   "cell_type": "markdown",
   "metadata": {},
   "source": [
    "## Plotting the Data\n",
    "* Use proper labeling of the plots using plot titles (including date of analysis) and axes labels.\n",
    "* Save the plotted figures as .pngs."
   ]
  },
  {
   "cell_type": "markdown",
   "metadata": {},
   "source": [
    "## Latitude vs. Temperature Plot"
   ]
  },
  {
   "cell_type": "code",
   "execution_count": 10,
   "metadata": {
    "scrolled": true
   },
   "outputs": [
    {
     "data": {
      "text/plain": [
       "Text(0, 0.5, 'Latitude')"
      ]
     },
     "execution_count": 10,
     "metadata": {},
     "output_type": "execute_result"
    },
    {
     "data": {
      "image/png": "[encoded data removed]",
      "text/plain": [
       "<Figure size 432x288 with 1 Axes>"
      ]
     },
     "metadata": {
      "needs_background": "light"
     },
     "output_type": "display_data"
    }
   ],
   "source": [
    "plt.scatter(weather_data[\"Temperature\"],weather_data[\"Latitude\"])\n",
    "plt.xlabel(\"Temperature\")\n",
    "plt.ylabel(\"Latitude\")"
   ]
  },
  {
   "cell_type": "code",
   "execution_count": 11,
   "metadata": {},
   "outputs": [],
   "source": [
    "#There seems to be a negative correlation between high latitudes and lower temperatures "
   ]
  },
  {
   "cell_type": "markdown",
   "metadata": {},
   "source": [
    "## Latitude vs. Humidity Plot"
   ]
  },
  {
   "cell_type": "code",
   "execution_count": 12,
   "metadata": {},
   "outputs": [
    {
     "data": {
      "text/plain": [
       "Text(0, 0.5, 'Latitude')"
      ]
     },
     "execution_count": 12,
     "metadata": {},
     "output_type": "execute_result"
    },
    {
     "data": {
      "image/png": "[encoded data removed]",
      "text/plain": [
       "<Figure size 432x288 with 1 Axes>"
      ]
     },
     "metadata": {
      "needs_background": "light"
     },
     "output_type": "display_data"
    }
   ],
   "source": [
    "plt.scatter(weather_data[\"Latitude\"],weather_data[\"Humidity\"])\n",
    "plt.xlabel(\"Humidity\")\n",
    "plt.ylabel(\"Latitude\")"
   ]
  },
  {
   "cell_type": "code",
   "execution_count": 13,
   "metadata": {},
   "outputs": [],
   "source": [
    "# There doesn't seem to be a correlation between humidity and latitude. "
   ]
  },
  {
   "cell_type": "markdown",
   "metadata": {},
   "source": [
    "## Latitude vs. Cloudiness Plot"
   ]
  },
  {
   "cell_type": "code",
   "execution_count": 14,
   "metadata": {},
   "outputs": [
    {
     "data": {
      "text/plain": [
       "Text(0, 0.5, 'Cloudiness')"
      ]
     },
     "execution_count": 14,
     "metadata": {},
     "output_type": "execute_result"
    },
    {
     "data": {
      "image/png": "[encoded data removed]",
      "text/plain": [
       "<Figure size 432x288 with 1 Axes>"
      ]
     },
     "metadata": {
      "needs_background": "light"
     },
     "output_type": "display_data"
    }
   ],
   "source": [
    "plt.scatter(weather_data[\"Latitude\"],weather_data[\"Cloudiness\"])\n",
    "plt.xlabel(\"Latitude\")\n",
    "plt.ylabel(\"Cloudiness\")"
   ]
  },
  {
   "cell_type": "code",
   "execution_count": 15,
   "metadata": {},
   "outputs": [],
   "source": [
    "#Latitude doesn't have an impact on how cloudy a city is. "
   ]
  },
  {
   "cell_type": "markdown",
   "metadata": {},
   "source": [
    "## Latitude vs. Wind Speed Plot"
   ]
  },
  {
   "cell_type": "code",
   "execution_count": 16,
   "metadata": {},
   "outputs": [
    {
     "data": {
      "text/plain": [
       "Text(0, 0.5, 'Wind Speed')"
      ]
     },
     "execution_count": 16,
     "metadata": {},
     "output_type": "execute_result"
    },
    {
     "data": {
      "image/png": "[encoded data removed]",
      "text/plain": [
       "<Figure size 432x288 with 1 Axes>"
      ]
     },
     "metadata": {
      "needs_background": "light"
     },
     "output_type": "display_data"
    }
   ],
   "source": [
    "plt.scatter(weather_data[\"Latitude\"],weather_data[\"Wind Speed\"])\n",
    "plt.xlabel(\"Latitude\")\n",
    "plt.ylabel(\"Wind Speed\")"
   ]
  },
  {
   "cell_type": "code",
   "execution_count": 17,
   "metadata": {},
   "outputs": [],
   "source": [
    "#The majority of wind speed is under 15 MPH"
   ]
  },
  {
   "cell_type": "markdown",
   "metadata": {},
   "source": [
    "## Linear Regression"
   ]
  },
  {
   "cell_type": "code",
   "execution_count": 22,
   "metadata": {},
   "outputs": [],
   "source": [
    "\n",
    "def linear_hemisphere (x_values,y_values,title,coordinates):\n",
    "    (slope, intercept, rvalue, pvalue, stderr) = linregress(x_values, y_values)\n",
    "    regress_values = x_values * slope + intercept\n",
    "    line_eq = \"y = \" + str(round(slope,2)) + \"x + \" + str(round(intercept,2))\n",
    "    plt.scatter(x_values,y_values)\n",
    "    plt.plot(x_values,regress_values,\"r-\")\n",
    "    plt.annotate(line_eq,coordinates,fontsize=15,color=\"red\")\n",
    "    plt.xlabel(\"latitude\")\n",
    "    plt.ylabel(title)\n",
    "    plt.show()"
   ]
  },
  {
   "cell_type": "markdown",
   "metadata": {},
   "source": [
    "####  Northern Hemisphere - Max Temp vs. Latitude Linear Regression"
   ]
  },
  {
   "cell_type": "code",
   "execution_count": 26,
   "metadata": {},
   "outputs": [
    {
     "data": {
      "image/png": "[encoded data removed]",
      "text/plain": [
       "<Figure size 432x288 with 1 Axes>"
      ]
     },
     "metadata": {
      "needs_background": "light"
     },
     "output_type": "display_data"
    }
   ],
   "source": [
    "north_hemisphere_data= weather_data.loc[weather_data[\"Latitude\"]>=0]\n",
    "south_hemisphere_data=weather_data.loc[weather_data[\"Latitude\"] <=0]\n",
    "x_values=north_hemisphere_data[\"Latitude\"]\n",
    "y_values=north_hemisphere_data[\"Temperature\"]\n",
    "linear_hemisphere(x_values,y_values,\"Max Temp\",(6,15))"
   ]
  },
  {
   "cell_type": "code",
   "execution_count": null,
   "metadata": {},
   "outputs": [],
   "source": [
    "#There is a negative correlation with max temp and latitude in the northern hemisphere"
   ]
  },
  {
   "cell_type": "markdown",
   "metadata": {},
   "source": [
    "####  Southern Hemisphere - Max Temp vs. Latitude Linear Regression"
   ]
  },
  {
   "cell_type": "code",
   "execution_count": 27,
   "metadata": {},
   "outputs": [
    {
     "data": {
      "image/png": "[encoded data removed]",
      "text/plain": [
       "<Figure size 432x288 with 1 Axes>"
      ]
     },
     "metadata": {
      "needs_background": "light"
     },
     "output_type": "display_data"
    }
   ],
   "source": [
    "x_values=south_hemisphere_data[\"Latitude\"]\n",
    "y_values=south_hemisphere_data[\"Temperature\"]\n",
    "linear_hemisphere(x_values,y_values,\"Max Temp\", (6,15))"
   ]
  },
  {
   "cell_type": "code",
   "execution_count": null,
   "metadata": {},
   "outputs": [],
   "source": [
    "#There is a positive correlation between latitude and max temp in the southern hemisphere. "
   ]
  },
  {
   "cell_type": "markdown",
   "metadata": {},
   "source": [
    "####  Northern Hemisphere - Humidity (%) vs. Latitude Linear Regression"
   ]
  },
  {
   "cell_type": "code",
   "execution_count": 28,
   "metadata": {},
   "outputs": [
    {
     "data": {
      "image/png": "[encoded data removed]",
      "text/plain": [
       "<Figure size 432x288 with 1 Axes>"
      ]
     },
     "metadata": {
      "needs_background": "light"
     },
     "output_type": "display_data"
    }
   ],
   "source": [
    "x_values=north_hemisphere_data[\"Latitude\"]\n",
    "y_values=north_hemisphere_data[\"Humidity\"]\n",
    "linear_hemisphere(x_values,y_values,\"Humidity\",(6,15))"
   ]
  },
  {
   "cell_type": "code",
   "execution_count": null,
   "metadata": {},
   "outputs": [],
   "source": [
    "#THere is no seemingly obvious correlation between humidity and latitude in the northern hemisphere."
   ]
  },
  {
   "cell_type": "markdown",
   "metadata": {},
   "source": [
    "####  Southern Hemisphere - Humidity (%) vs. Latitude Linear Regression"
   ]
  },
  {
   "cell_type": "code",
   "execution_count": 29,
   "metadata": {},
   "outputs": [
    {
     "data": {
      "image/png": "[encoded data removed]",
      "text/plain": [
       "<Figure size 432x288 with 1 Axes>"
      ]
     },
     "metadata": {
      "needs_background": "light"
     },
     "output_type": "display_data"
    }
   ],
   "source": [
    "x_values=south_hemisphere_data[\"Latitude\"]\n",
    "y_values=south_hemisphere_data[\"Humidity\"]\n",
    "linear_hemisphere(x_values,y_values,\"Humidity\",(6,15))"
   ]
  },
  {
   "cell_type": "markdown",
   "metadata": {},
   "source": [
    "####  Northern Hemisphere - Cloudiness (%) vs. Latitude Linear Regression"
   ]
  },
  {
   "cell_type": "code",
   "execution_count": 31,
   "metadata": {},
   "outputs": [
    {
     "data": {
      "image/png": "[encoded data removed]",
      "text/plain": [
       "<Figure size 432x288 with 1 Axes>"
      ]
     },
     "metadata": {
      "needs_background": "light"
     },
     "output_type": "display_data"
    }
   ],
   "source": [
    "x_values=north_hemisphere_data[\"Latitude\"]\n",
    "y_values=north_hemisphere_data[\"Cloudiness\"]\n",
    "linear_hemisphere(x_values,y_values,\"Cloudiness\",(6,15))"
   ]
  },
  {
   "cell_type": "markdown",
   "metadata": {},
   "source": [
    "####  Southern Hemisphere - Cloudiness (%) vs. Latitude Linear Regression"
   ]
  },
  {
   "cell_type": "code",
   "execution_count": 32,
   "metadata": {},
   "outputs": [
    {
     "data": {
      "image/png": "[encoded data removed]",
      "text/plain": [
       "<Figure size 432x288 with 1 Axes>"
      ]
     },
     "metadata": {
      "needs_background": "light"
     },
     "output_type": "display_data"
    }
   ],
   "source": [
    "x_values=south_hemisphere_data[\"Latitude\"]\n",
    "y_values=south_hemisphere_data[\"Cloudiness\"]\n",
    "linear_hemisphere(x_values,y_values,\"Cloudiness\",(6,15))"
   ]
  },
  {
   "cell_type": "markdown",
   "metadata": {},
   "source": [
    "####  Northern Hemisphere - Wind Speed (mph) vs. Latitude Linear Regression"
   ]
  },
  {
   "cell_type": "code",
   "execution_count": 33,
   "metadata": {},
   "outputs": [
    {
     "data": {
      "image/png": "[encoded data removed]",
      "text/plain": [
       "<Figure size 432x288 with 1 Axes>"
      ]
     },
     "metadata": {
      "needs_background": "light"
     },
     "output_type": "display_data"
    }
   ],
   "source": [
    "x_values=north_hemisphere_data[\"Latitude\"]\n",
    "y_values=north_hemisphere_data[\"Wind Speed\"]\n",
    "linear_hemisphere(x_values,y_values,\"Wind Speed\",(6,15))"
   ]
  },
  {
   "cell_type": "markdown",
   "metadata": {},
   "source": [
    "####  Southern Hemisphere - Wind Speed (mph) vs. Latitude Linear Regression"
   ]
  },
  {
   "cell_type": "code",
   "execution_count": 34,
   "metadata": {},
   "outputs": [
    {
     "data": {
      "image/png": "[encoded data removed]",
      "text/plain": [
       "<Figure size 432x288 with 1 Axes>"
      ]
     },
     "metadata": {
      "needs_background": "light"
     },
     "output_type": "display_data"
    }
   ],
   "source": [
    "x_values=south_hemisphere_data[\"Latitude\"]\n",
    "y_values=south_hemisphere_data[\"Wind Speed\"]\n",
    "linear_hemisphere(x_values,y_values,\"Wind Speed\",(6,15))"
   ]
  },
  {
   "cell_type": "code",
   "execution_count": null,
   "metadata": {},
   "outputs": [],
   "source": []
  }
 ],
 "metadata": {
  "anaconda-cloud": {},
  "kernel_info": {
   "name": "python3"
  },
  "kernelspec": {
   "display_name": "Python 3",
   "language": "python",
   "name": "python3"
  },
  "language_info": {
   "codemirror_mode": {
    "name": "ipython",
    "version": 3
   },
   "file_extension": ".py",
   "mimetype": "text/x-python",
   "name": "python",
   "nbconvert_exporter": "python",
   "pygments_lexer": "ipython3",
   "version": "3.8.5"
  },
  "latex_envs": {
   "LaTeX_envs_menu_present": true,
   "autoclose": false,
   "autocomplete": true,
   "bibliofile": "biblio.bib",
   "cite_by": "apalike",
   "current_citInitial": 1,
   "eqLabelWithNumbers": true,
   "eqNumInitial": 1,
   "hotkeys": {
    "equation": "Ctrl-E",
    "itemize": "Ctrl-I"
   },
   "labels_anchors": false,
   "latex_user_defs": false,
   "report_style_numbering": false,
   "user_envs_cfg": false
  },
  "nteract": {
   "version": "0.12.3"
  }
 },
 "nbformat": 4,
 "nbformat_minor": 4
}
