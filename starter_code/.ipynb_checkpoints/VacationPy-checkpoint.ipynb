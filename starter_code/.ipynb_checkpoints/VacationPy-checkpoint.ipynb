{
 "cells": [
  {
   "cell_type": "markdown",
   "metadata": {},
   "source": [
    "# VacationPy\n",
    "----\n",
    "\n",
    "#### Note\n",
    "* Keep an eye on your API usage. Use https://developers.google.com/maps/reporting/gmp-reporting as reference for how to monitor your usage and billing.\n",
    "\n",
    "* Instructions have been included for each segment. You do not have to follow them exactly, but they are included to help you think through the steps."
   ]
  },
  {
   "cell_type": "code",
   "execution_count": 1,
   "metadata": {},
   "outputs": [],
   "source": [
    "# Dependencies and Setup\n",
    "import matplotlib.pyplot as plt\n",
    "import pandas as pd\n",
    "import numpy as np\n",
    "import requests\n",
    "import gmaps\n",
    "import os\n",
    "\n",
    "# Import API key\n",
    "from api_keys import g_key\n",
    "\n"
   ]
  },
  {
   "cell_type": "markdown",
   "metadata": {},
   "source": [
    "### Store Part I results into DataFrame\n",
    "* Load the csv exported in Part I to a DataFrame"
   ]
  },
  {
   "cell_type": "code",
   "execution_count": 2,
   "metadata": {},
   "outputs": [
    {
     "data": {
      "text/html": [
       "<div>\n",
       "<style scoped>\n",
       "    .dataframe tbody tr th:only-of-type {\n",
       "        vertical-align: middle;\n",
       "    }\n",
       "\n",
       "    .dataframe tbody tr th {\n",
       "        vertical-align: top;\n",
       "    }\n",
       "\n",
       "    .dataframe thead th {\n",
       "        text-align: right;\n",
       "    }\n",
       "</style>\n",
       "<table border=\"1\" class=\"dataframe\">\n",
       "  <thead>\n",
       "    <tr style=\"text-align: right;\">\n",
       "      <th></th>\n",
       "      <th>Unnamed: 0</th>\n",
       "      <th>City</th>\n",
       "      <th>Country</th>\n",
       "      <th>Date</th>\n",
       "      <th>Longitude</th>\n",
       "      <th>Latitude</th>\n",
       "      <th>Temperature</th>\n",
       "      <th>Humidity</th>\n",
       "      <th>Cloudiness</th>\n",
       "      <th>Wind Speed</th>\n",
       "    </tr>\n",
       "  </thead>\n",
       "  <tbody>\n",
       "    <tr>\n",
       "      <th>0</th>\n",
       "      <td>0</td>\n",
       "      <td>vaini</td>\n",
       "      <td>TO</td>\n",
       "      <td>1619723937</td>\n",
       "      <td>-175.2000</td>\n",
       "      <td>-21.2000</td>\n",
       "      <td>75.20</td>\n",
       "      <td>100</td>\n",
       "      <td>90</td>\n",
       "      <td>4.61</td>\n",
       "    </tr>\n",
       "    <tr>\n",
       "      <th>1</th>\n",
       "      <td>1</td>\n",
       "      <td>calabozo</td>\n",
       "      <td>VE</td>\n",
       "      <td>1619723938</td>\n",
       "      <td>-67.4293</td>\n",
       "      <td>8.9242</td>\n",
       "      <td>71.06</td>\n",
       "      <td>93</td>\n",
       "      <td>100</td>\n",
       "      <td>9.82</td>\n",
       "    </tr>\n",
       "    <tr>\n",
       "      <th>2</th>\n",
       "      <td>2</td>\n",
       "      <td>port elizabeth</td>\n",
       "      <td>ZA</td>\n",
       "      <td>1619723938</td>\n",
       "      <td>25.5701</td>\n",
       "      <td>-33.9180</td>\n",
       "      <td>57.20</td>\n",
       "      <td>94</td>\n",
       "      <td>20</td>\n",
       "      <td>12.66</td>\n",
       "    </tr>\n",
       "    <tr>\n",
       "      <th>3</th>\n",
       "      <td>3</td>\n",
       "      <td>ushuaia</td>\n",
       "      <td>AR</td>\n",
       "      <td>1619723927</td>\n",
       "      <td>-68.3000</td>\n",
       "      <td>-54.8000</td>\n",
       "      <td>42.80</td>\n",
       "      <td>56</td>\n",
       "      <td>20</td>\n",
       "      <td>3.44</td>\n",
       "    </tr>\n",
       "    <tr>\n",
       "      <th>4</th>\n",
       "      <td>4</td>\n",
       "      <td>kapaa</td>\n",
       "      <td>US</td>\n",
       "      <td>1619723939</td>\n",
       "      <td>-159.3190</td>\n",
       "      <td>22.0752</td>\n",
       "      <td>74.75</td>\n",
       "      <td>69</td>\n",
       "      <td>40</td>\n",
       "      <td>14.97</td>\n",
       "    </tr>\n",
       "  </tbody>\n",
       "</table>\n",
       "</div>"
      ],
      "text/plain": [
       "   Unnamed: 0            City Country        Date  Longitude  Latitude  \\\n",
       "0           0           vaini      TO  1619723937  -175.2000  -21.2000   \n",
       "1           1        calabozo      VE  1619723938   -67.4293    8.9242   \n",
       "2           2  port elizabeth      ZA  1619723938    25.5701  -33.9180   \n",
       "3           3         ushuaia      AR  1619723927   -68.3000  -54.8000   \n",
       "4           4           kapaa      US  1619723939  -159.3190   22.0752   \n",
       "\n",
       "   Temperature  Humidity  Cloudiness  Wind Speed  \n",
       "0        75.20       100          90        4.61  \n",
       "1        71.06        93         100        9.82  \n",
       "2        57.20        94          20       12.66  \n",
       "3        42.80        56          20        3.44  \n",
       "4        74.75        69          40       14.97  "
      ]
     },
     "execution_count": 2,
     "metadata": {},
     "output_type": "execute_result"
    }
   ],
   "source": [
    "\n",
    "#pip install gmaps\n",
    "city_df=pd.read_csv(\"citydatainfo.csv\")\n",
    "city_df.head()"
   ]
  },
  {
   "cell_type": "markdown",
   "metadata": {},
   "source": [
    "### Humidity Heatmap\n",
    "* Configure gmaps.\n",
    "* Use the Lat and Lng as locations and Humidity as the weight.\n",
    "* Add Heatmap layer to map."
   ]
  },
  {
   "cell_type": "code",
   "execution_count": 3,
   "metadata": {},
   "outputs": [],
   "source": [
    "gmaps.configure(api_key=g_key)\n"
   ]
  },
  {
   "cell_type": "code",
   "execution_count": 4,
   "metadata": {},
   "outputs": [
    {
     "data": {
      "application/vnd.jupyter.widget-view+json": {
       "model_id": "74343dea567e4d88abf71b28fbd264d5",
       "version_major": 2,
       "version_minor": 0
      },
      "text/plain": [
       "Figure(layout=FigureLayout(height='420px'))"
      ]
     },
     "metadata": {},
     "output_type": "display_data"
    }
   ],
   "source": [
    "location=city_df[[\"Latitude\",\"Longitude\"]]\n",
    "weight=city_df[\"Humidity\"]\n",
    "fig=gmaps.figure()\n",
    "heatlayer=gmaps.heatmap_layer(location,weights=weight,dissipating=False,max_intensity=400,point_radius=5)\n",
    "fig.add_layer(heatlayer)\n",
    "fig"
   ]
  },
  {
   "cell_type": "markdown",
   "metadata": {},
   "source": [
    "### Create new DataFrame fitting weather criteria\n",
    "* Narrow down the cities to fit weather conditions.\n",
    "* Drop any rows will null values."
   ]
  },
  {
   "cell_type": "code",
   "execution_count": 5,
   "metadata": {},
   "outputs": [
    {
     "data": {
      "text/html": [
       "<div>\n",
       "<style scoped>\n",
       "    .dataframe tbody tr th:only-of-type {\n",
       "        vertical-align: middle;\n",
       "    }\n",
       "\n",
       "    .dataframe tbody tr th {\n",
       "        vertical-align: top;\n",
       "    }\n",
       "\n",
       "    .dataframe thead th {\n",
       "        text-align: right;\n",
       "    }\n",
       "</style>\n",
       "<table border=\"1\" class=\"dataframe\">\n",
       "  <thead>\n",
       "    <tr style=\"text-align: right;\">\n",
       "      <th></th>\n",
       "      <th>Unnamed: 0</th>\n",
       "      <th>City</th>\n",
       "      <th>Country</th>\n",
       "      <th>Date</th>\n",
       "      <th>Longitude</th>\n",
       "      <th>Latitude</th>\n",
       "      <th>Temperature</th>\n",
       "      <th>Humidity</th>\n",
       "      <th>Cloudiness</th>\n",
       "      <th>Wind Speed</th>\n",
       "    </tr>\n",
       "  </thead>\n",
       "  <tbody>\n",
       "    <tr>\n",
       "      <th>17</th>\n",
       "      <td>17</td>\n",
       "      <td>rocha</td>\n",
       "      <td>UY</td>\n",
       "      <td>1619723942</td>\n",
       "      <td>-54.3333</td>\n",
       "      <td>-34.4833</td>\n",
       "      <td>72.28</td>\n",
       "      <td>49</td>\n",
       "      <td>0</td>\n",
       "      <td>2.08</td>\n",
       "    </tr>\n",
       "    <tr>\n",
       "      <th>25</th>\n",
       "      <td>25</td>\n",
       "      <td>saint-pierre</td>\n",
       "      <td>RE</td>\n",
       "      <td>1619723946</td>\n",
       "      <td>55.4781</td>\n",
       "      <td>-21.3393</td>\n",
       "      <td>72.45</td>\n",
       "      <td>78</td>\n",
       "      <td>0</td>\n",
       "      <td>6.91</td>\n",
       "    </tr>\n",
       "    <tr>\n",
       "      <th>82</th>\n",
       "      <td>82</td>\n",
       "      <td>beloha</td>\n",
       "      <td>MG</td>\n",
       "      <td>1619723968</td>\n",
       "      <td>45.0500</td>\n",
       "      <td>-25.1667</td>\n",
       "      <td>73.81</td>\n",
       "      <td>77</td>\n",
       "      <td>0</td>\n",
       "      <td>8.21</td>\n",
       "    </tr>\n",
       "    <tr>\n",
       "      <th>87</th>\n",
       "      <td>87</td>\n",
       "      <td>saint-philippe</td>\n",
       "      <td>RE</td>\n",
       "      <td>1619723970</td>\n",
       "      <td>55.7679</td>\n",
       "      <td>-21.3585</td>\n",
       "      <td>71.60</td>\n",
       "      <td>78</td>\n",
       "      <td>0</td>\n",
       "      <td>6.91</td>\n",
       "    </tr>\n",
       "  </tbody>\n",
       "</table>\n",
       "</div>"
      ],
      "text/plain": [
       "    Unnamed: 0            City Country        Date  Longitude  Latitude  \\\n",
       "17          17           rocha      UY  1619723942   -54.3333  -34.4833   \n",
       "25          25    saint-pierre      RE  1619723946    55.4781  -21.3393   \n",
       "82          82          beloha      MG  1619723968    45.0500  -25.1667   \n",
       "87          87  saint-philippe      RE  1619723970    55.7679  -21.3585   \n",
       "\n",
       "    Temperature  Humidity  Cloudiness  Wind Speed  \n",
       "17        72.28        49           0        2.08  \n",
       "25        72.45        78           0        6.91  \n",
       "82        73.81        77           0        8.21  \n",
       "87        71.60        78           0        6.91  "
      ]
     },
     "execution_count": 5,
     "metadata": {},
     "output_type": "execute_result"
    }
   ],
   "source": [
    "perfect_weather=city_df.loc[(city_df[\"Temperature\"] >= 70) \n",
    "                        &(city_df[\"Temperature\"] <= 80)\n",
    "                        &(city_df[\"Wind Speed\"] <= 10)\n",
    "                        &(city_df[\"Cloudiness\"] == 0)].dropna()\n",
    "\n",
    "perfect_weather.head()\n",
    "\n",
    "\n",
    "# hotel_df= perfect_weather\n",
    "\n",
    "# hotel_df.insert(3,\"Hotel\",\"\")\n",
    "\n",
    "# hotel_df.head()"
   ]
  },
  {
   "cell_type": "markdown",
   "metadata": {},
   "source": [
    "### Hotel Map\n",
    "* Store into variable named `hotel_df`.\n",
    "* Add a \"Hotel Name\" column to the DataFrame.\n",
    "* Set parameters to search for hotels with 5000 meters.\n",
    "* Hit the Google Places API for each city's coordinates.\n",
    "* Store the first Hotel result into the DataFrame.\n",
    "* Plot markers on top of the heatmap."
   ]
  },
  {
   "cell_type": "code",
   "execution_count": 6,
   "metadata": {},
   "outputs": [
    {
     "data": {
      "text/html": [
       "<div>\n",
       "<style scoped>\n",
       "    .dataframe tbody tr th:only-of-type {\n",
       "        vertical-align: middle;\n",
       "    }\n",
       "\n",
       "    .dataframe tbody tr th {\n",
       "        vertical-align: top;\n",
       "    }\n",
       "\n",
       "    .dataframe thead th {\n",
       "        text-align: right;\n",
       "    }\n",
       "</style>\n",
       "<table border=\"1\" class=\"dataframe\">\n",
       "  <thead>\n",
       "    <tr style=\"text-align: right;\">\n",
       "      <th></th>\n",
       "      <th>City</th>\n",
       "      <th>Country</th>\n",
       "      <th>Longitude</th>\n",
       "      <th>Latitude</th>\n",
       "      <th>Hotel Name</th>\n",
       "    </tr>\n",
       "  </thead>\n",
       "  <tbody>\n",
       "    <tr>\n",
       "      <th>17</th>\n",
       "      <td>rocha</td>\n",
       "      <td>UY</td>\n",
       "      <td>-54.3333</td>\n",
       "      <td>-34.4833</td>\n",
       "      <td></td>\n",
       "    </tr>\n",
       "    <tr>\n",
       "      <th>25</th>\n",
       "      <td>saint-pierre</td>\n",
       "      <td>RE</td>\n",
       "      <td>55.4781</td>\n",
       "      <td>-21.3393</td>\n",
       "      <td></td>\n",
       "    </tr>\n",
       "    <tr>\n",
       "      <th>82</th>\n",
       "      <td>beloha</td>\n",
       "      <td>MG</td>\n",
       "      <td>45.0500</td>\n",
       "      <td>-25.1667</td>\n",
       "      <td></td>\n",
       "    </tr>\n",
       "    <tr>\n",
       "      <th>87</th>\n",
       "      <td>saint-philippe</td>\n",
       "      <td>RE</td>\n",
       "      <td>55.7679</td>\n",
       "      <td>-21.3585</td>\n",
       "      <td></td>\n",
       "    </tr>\n",
       "  </tbody>\n",
       "</table>\n",
       "</div>"
      ],
      "text/plain": [
       "              City Country  Longitude  Latitude Hotel Name\n",
       "17           rocha      UY   -54.3333  -34.4833           \n",
       "25    saint-pierre      RE    55.4781  -21.3393           \n",
       "82          beloha      MG    45.0500  -25.1667           \n",
       "87  saint-philippe      RE    55.7679  -21.3585           "
      ]
     },
     "execution_count": 6,
     "metadata": {},
     "output_type": "execute_result"
    }
   ],
   "source": [
    "hotel_df= perfect_weather[[\"City\",\"Country\",\"Longitude\",\"Latitude\"]].copy()\n",
    "\n",
    "hotel_df.insert(4,\"Hotel Name\",\"\")\n",
    "\n",
    "hotel_df.head()"
   ]
  },
  {
   "cell_type": "code",
   "execution_count": 7,
   "metadata": {},
   "outputs": [
    {
     "name": "stdout",
     "output_type": "stream",
     "text": [
      "Missing field/results...skipping\n"
     ]
    },
    {
     "data": {
      "text/html": [
       "<div>\n",
       "<style scoped>\n",
       "    .dataframe tbody tr th:only-of-type {\n",
       "        vertical-align: middle;\n",
       "    }\n",
       "\n",
       "    .dataframe tbody tr th {\n",
       "        vertical-align: top;\n",
       "    }\n",
       "\n",
       "    .dataframe thead th {\n",
       "        text-align: right;\n",
       "    }\n",
       "</style>\n",
       "<table border=\"1\" class=\"dataframe\">\n",
       "  <thead>\n",
       "    <tr style=\"text-align: right;\">\n",
       "      <th></th>\n",
       "      <th>City</th>\n",
       "      <th>Country</th>\n",
       "      <th>Longitude</th>\n",
       "      <th>Latitude</th>\n",
       "      <th>Hotel Name</th>\n",
       "    </tr>\n",
       "  </thead>\n",
       "  <tbody>\n",
       "    <tr>\n",
       "      <th>17</th>\n",
       "      <td>rocha</td>\n",
       "      <td>UY</td>\n",
       "      <td>-54.3333</td>\n",
       "      <td>-34.4833</td>\n",
       "      <td>Beleza Pura B&amp;B</td>\n",
       "    </tr>\n",
       "    <tr>\n",
       "      <th>25</th>\n",
       "      <td>saint-pierre</td>\n",
       "      <td>RE</td>\n",
       "      <td>55.4781</td>\n",
       "      <td>-21.3393</td>\n",
       "      <td>Lindsey Hôtel</td>\n",
       "    </tr>\n",
       "    <tr>\n",
       "      <th>82</th>\n",
       "      <td>beloha</td>\n",
       "      <td>MG</td>\n",
       "      <td>45.0500</td>\n",
       "      <td>-25.1667</td>\n",
       "      <td></td>\n",
       "    </tr>\n",
       "    <tr>\n",
       "      <th>87</th>\n",
       "      <td>saint-philippe</td>\n",
       "      <td>RE</td>\n",
       "      <td>55.7679</td>\n",
       "      <td>-21.3585</td>\n",
       "      <td>Chambres d'hôte \"La Trinité\"</td>\n",
       "    </tr>\n",
       "  </tbody>\n",
       "</table>\n",
       "</div>"
      ],
      "text/plain": [
       "              City Country  Longitude  Latitude                    Hotel Name\n",
       "17           rocha      UY   -54.3333  -34.4833               Beleza Pura B&B\n",
       "25    saint-pierre      RE    55.4781  -21.3393                 Lindsey Hôtel\n",
       "82          beloha      MG    45.0500  -25.1667                              \n",
       "87  saint-philippe      RE    55.7679  -21.3585  Chambres d'hôte \"La Trinité\""
      ]
     },
     "execution_count": 7,
     "metadata": {},
     "output_type": "execute_result"
    }
   ],
   "source": [
    "# Set parameters to search for a hotel\n",
    "params = {\n",
    "    \"radius\": 5000,\n",
    "    \"types\": \"lodging\",\n",
    "    \"key\": g_key\n",
    "}\n",
    "for index, hotel in hotel_df.iterrows():\n",
    "    lat=hotel[\"Latitude\"]\n",
    "    long=hotel[\"Longitude\"]\n",
    "    params[\"location\"]=f\"{lat},{long}\"\n",
    "    base_url=\"https://maps.googleapis.com/maps/api/place/nearbysearch/json\"\n",
    "    response= requests.get(base_url,params=params)\n",
    "    url_lists=response.json()\n",
    "    try:\n",
    "        hotel_df.loc[index, \"Hotel Name\"]=url_lists[\"results\"][0][\"name\"]\n",
    "    except (KeyError, IndexError):\n",
    "        print(\"Missing field/results...skipping\")\n",
    "hotel_df       "
   ]
  },
  {
   "cell_type": "code",
   "execution_count": 8,
   "metadata": {},
   "outputs": [
    {
     "name": "stdout",
     "output_type": "stream",
     "text": [
      "{'html_attributions': [], 'results': [{'business_status': 'OPERATIONAL', 'geometry': {'location': {'lat': -21.358434, 'lng': 55.77032209999999}, 'viewport': {'northeast': {'lat': -21.3570810697085, 'lng': 55.7717046302915}, 'southwest': {'lat': -21.3597790302915, 'lng': 55.7690066697085}}}, 'icon': 'https://maps.gstatic.com/mapfiles/place_api/icons/v1/png_71/lodging-71.png', 'name': 'Chambres d\\'hôte \"La Trinité\"', 'photos': [{'height': 359, 'html_attributions': ['<a href=\"https://maps.google.com/maps/contrib/117069031951999342120\">Chambres d&#39;hôte &quot;La Trinité&quot;</a>'], 'photo_reference': 'ATtYBwJfVBJALCW49z4jalh0Hv0z0pZfMsTPRIT03MAIVWkAwN1eRJExnDKl9cWiWHSRVvsZvcewCxaJXRsQPYBpLIc8A9GPBdd8XMnpoPoXoAThScEvgEXwtSnjyaN4fRiF1Pkr2U477mddsVz8JmoEg5Dh0ZHo-hdMXVxzV6fUxlYrG4LD', 'width': 550}], 'place_id': 'ChIJqSF_M5cUeCERuCMQ4H3g9oM', 'plus_code': {'compound_code': 'JQRC+J4 Saint-Philippe, Réunion', 'global_code': '5HCQJQRC+J4'}, 'rating': 3.5, 'reference': 'ChIJqSF_M5cUeCERuCMQ4H3g9oM', 'scope': 'GOOGLE', 'types': ['lodging', 'point_of_interest', 'establishment'], 'user_ratings_total': 11, 'vicinity': '12 Rue De La Pompe'}, {'business_status': 'OPERATIONAL', 'geometry': {'location': {'lat': -21.36910659999999, 'lng': 55.727522}, 'viewport': {'northeast': {'lat': -21.3677345697085, 'lng': 55.7288677802915}, 'southwest': {'lat': -21.3704325302915, 'lng': 55.7261698197085}}}, 'icon': 'https://maps.gstatic.com/mapfiles/place_api/icons/v1/png_71/lodging-71.png', 'name': 'Le four à pain', 'photos': [{'height': 3024, 'html_attributions': ['<a href=\"https://maps.google.com/maps/contrib/110503838680164142888\">Stéphanie Ah</a>'], 'photo_reference': 'ATtYBwKyoxEWdpGtpn8R1lZ73BDq2ihKfStNAxBFnb15J_wmQfAx-zNZYQCeBQ7j5_7YfjtCAo2RudX1jTOkcmhUYCPCROBM_sANGtzUSlH-90MoxzKCmTq60b-shftOumY16F7R0FI7QcgWh7eAyWw301CZfQhvp9Y-scp512irMmyYYQGB', 'width': 4032}], 'place_id': 'ChIJuWs3ZQJreCER5e7xKFgaz8c', 'plus_code': {'compound_code': 'JPJH+92 Saint-Philippe, Réunion', 'global_code': '5HCQJPJH+92'}, 'rating': 4.9, 'reference': 'ChIJuWs3ZQJreCER5e7xKFgaz8c', 'scope': 'GOOGLE', 'types': ['lodging', 'point_of_interest', 'establishment'], 'user_ratings_total': 21, 'vicinity': '63C RN2 Le Baril, Saint-Philippe'}, {'business_status': 'OPERATIONAL', 'geometry': {'location': {'lat': -21.359632, 'lng': 55.720716}, 'viewport': {'northeast': {'lat': -21.35832926970849, 'lng': 55.7220440802915}, 'southwest': {'lat': -21.3610272302915, 'lng': 55.7193461197085}}}, 'icon': 'https://maps.gstatic.com/mapfiles/place_api/icons/v1/png_71/lodging-71.png', 'name': \"Pinpin d'Amour\", 'opening_hours': {'open_now': True}, 'photos': [{'height': 2240, 'html_attributions': ['<a href=\"https://maps.google.com/maps/contrib/101585778340257226254\">Markus Dümig</a>'], 'photo_reference': 'ATtYBwKrRcwN1dUV1Z7QDpzEs0dTSwSPkPHieg0HHhbPZgeO65maT5vJOqMULf2WsUwlbg2Y3POQqend5qt1v4mYlITJqq9cEeahzcBD9jlaUVQeWzh7bBPQKwPHdtuzvbkeoN-pg_BzOnPpUsuAR-cfTxYZBQVVtTmmklV9GKankVes5EzP', 'width': 2240}], 'place_id': 'ChIJyWkg5AYTeCERw0e8Gt2gP5I', 'plus_code': {'compound_code': 'JPRC+47 Matouta, Réunion', 'global_code': '5HCQJPRC+47'}, 'rating': 4.2, 'reference': 'ChIJyWkg5AYTeCERw0e8Gt2gP5I', 'scope': 'GOOGLE', 'types': ['lodging', 'point_of_interest', 'establishment'], 'user_ratings_total': 64, 'vicinity': '56 A Chemin Paul Hoareau, Baril les Hauts'}, {'business_status': 'OPERATIONAL', 'geometry': {'location': {'lat': -21.3258087, 'lng': 55.79996089999999}, 'viewport': {'northeast': {'lat': -21.3244608697085, 'lng': 55.8014741802915}, 'southwest': {'lat': -21.3271588302915, 'lng': 55.7987762197085}}}, 'icon': 'https://maps.gstatic.com/mapfiles/place_api/icons/v1/png_71/lodging-71.png', 'name': 'Le Crabe Sous la Varangue', 'photos': [{'height': 1181, 'html_attributions': ['<a href=\"https://maps.google.com/maps/contrib/104042898749829948988\">Le Crabe Sous la Varangue</a>'], 'photo_reference': 'ATtYBwJgJITJjljo7DcNxXtC8PrIZ79TxowAHtcVeg17bbzyhLdPe9zXNChqZ7uEcW5zGj0fGG4jEYQ04a_RaRNRNN3Urnjdpms5RffwHnXnsugVOyK5GxWeyM_VTBbEqSkSrW2nGcxn6Byx2XuwMUN4uu00Fz8Wcir8uZPg5Ly_TvR86VLc', 'width': 748}], 'place_id': 'ChIJ71oWBCdreCER9J1crievLuk', 'plus_code': {'compound_code': 'MQFX+MX Saint-Philippe, Réunion', 'global_code': '5HCQMQFX+MX'}, 'rating': 4.8, 'reference': 'ChIJ71oWBCdreCER9J1crievLuk', 'scope': 'GOOGLE', 'types': ['lodging', 'point_of_interest', 'establishment'], 'user_ratings_total': 21, 'vicinity': '1 Route Nationale 2 le Tremblet'}, {'business_status': 'OPERATIONAL', 'geometry': {'location': {'lat': -21.35875279999999, 'lng': 55.76540360000001}, 'viewport': {'northeast': {'lat': -21.35739731970849, 'lng': 55.7667899302915}, 'southwest': {'lat': -21.3600952802915, 'lng': 55.7640919697085}}}, 'icon': 'https://maps.gstatic.com/mapfiles/place_api/icons/v1/png_71/lodging-71.png', 'name': 'Domaine du Vacoa', 'photos': [{'height': 4144, 'html_attributions': ['<a href=\"https://maps.google.com/maps/contrib/117518016478368450453\">Jeanne Renaudin</a>'], 'photo_reference': 'ATtYBwKegLyS1kx7T4h3ouCGUCbErSPya7LE7slCMrq0eGbQUcKbh5B5bhLamVqKCbc33_SuGTezEU_DU53k7W4XtE_h0rZtSU3zqRJIA0O4-uVY1CmfnGlk6JvsF0U_gaOzc3ZIz6J6tsrmJJ1Mjgv383Ru3xlN7xKDkoLwfu1fEcMATbrv', 'width': 5520}], 'place_id': 'ChIJWbfHuZsUeCERGn56NMxvQ_I', 'plus_code': {'compound_code': 'JQR8+F5 Saint-Philippe, Réunion', 'global_code': '5HCQJQR8+F5'}, 'rating': 4.1, 'reference': 'ChIJWbfHuZsUeCERGn56NMxvQ_I', 'scope': 'GOOGLE', 'types': ['lodging', 'point_of_interest', 'establishment'], 'user_ratings_total': 24, 'vicinity': '9 Chemin du Centre'}, {'business_status': 'OPERATIONAL', 'geometry': {'location': {'lat': -21.3590954, 'lng': 55.7705814}, 'viewport': {'northeast': {'lat': -21.35775181970849, 'lng': 55.7718941302915}, 'southwest': {'lat': -21.3604497802915, 'lng': 55.7691961697085}}}, 'icon': 'https://maps.gstatic.com/mapfiles/place_api/icons/v1/png_71/lodging-71.png', 'name': 'Le Palmier', 'photos': [{'height': 2988, 'html_attributions': ['<a href=\"https://maps.google.com/maps/contrib/115962503731463357701\">Pat C</a>'], 'photo_reference': 'ATtYBwLtla1vTKhz-M3dBZ5KTEb1AocjZqxaE1y5R0P9ys72RDOxEE3wi1v1XNCbGSS86eOT9kTbcmaBXXNShm0krm7Zk-iKyB6ExaASSuyPuwhC0UzbCNio49vZ3TNel10BbkpDkB6BrDPnpHKO4Ugp-9cVS1NOp86mjCSysz2DsHeKAL7J', 'width': 3984}], 'place_id': 'ChIJ8WorxpAUeCERMgx_wAiW31s', 'plus_code': {'compound_code': 'JQRC+96 Saint-Philippe, Réunion', 'global_code': '5HCQJQRC+96'}, 'rating': 3.7, 'reference': 'ChIJ8WorxpAUeCERMgx_wAiW31s', 'scope': 'GOOGLE', 'types': ['lodging', 'point_of_interest', 'establishment'], 'user_ratings_total': 13, 'vicinity': '8 Rue De La Pompe'}, {'business_status': 'OPERATIONAL', 'geometry': {'location': {'lat': -21.3618912, 'lng': 55.7659367}, 'viewport': {'northeast': {'lat': -21.3605282697085, 'lng': 55.7672871302915}, 'southwest': {'lat': -21.3632262302915, 'lng': 55.7645891697085}}}, 'icon': 'https://maps.gstatic.com/mapfiles/place_api/icons/v1/png_71/lodging-71.png', 'name': \"DAN'N TAN LONTAN\", 'photos': [{'height': 2048, 'html_attributions': ['<a href=\"https://maps.google.com/maps/contrib/104582181862058410887\">Reine Icaze</a>'], 'photo_reference': 'ATtYBwKN1qVpJuzt50cg08__ophoWCWfZoD2_kvDtP-oLLewkcyToeNxBvbX3_PRxcpnJL9RTFcPYNTf81e7AcYKv1wtRpk2cyww1EpqWIxg7mgwx_l79la6gGxBwI2xXiZhjChc5q5bvKnwx--va8WP_zwqYiROTKoUdUhMLIwhWUNs3Fi_', 'width': 1536}], 'place_id': 'ChIJpYwjJpsUeCERTnU7EAIaARQ', 'plus_code': {'compound_code': 'JQQ8+69 Saint-Philippe, Réunion', 'global_code': '5HCQJQQ8+69'}, 'rating': 4.4, 'reference': 'ChIJpYwjJpsUeCERTnU7EAIaARQ', 'scope': 'GOOGLE', 'types': ['lodging', 'point_of_interest', 'establishment'], 'user_ratings_total': 16, 'vicinity': '19 Allée des Palmiers'}, {'business_status': 'OPERATIONAL', 'geometry': {'location': {'lat': -21.3620183, 'lng': 55.76397559999999}, 'viewport': {'northeast': {'lat': -21.3606741197085, 'lng': 55.7652863802915}, 'southwest': {'lat': -21.3633720802915, 'lng': 55.7625884197085}}}, 'icon': 'https://maps.gstatic.com/mapfiles/place_api/icons/v1/png_71/lodging-71.png', 'name': 'cour des freres', 'place_id': 'ChIJzQSikCIVeCER_OszxBB4e3c', 'plus_code': {'compound_code': 'JQQ7+5H Saint-Philippe, Réunion', 'global_code': '5HCQJQQ7+5H'}, 'reference': 'ChIJzQSikCIVeCER_OszxBB4e3c', 'scope': 'GOOGLE', 'types': ['lodging', 'point_of_interest', 'establishment'], 'vicinity': 'Rue de la Cour des Freres'}, {'business_status': 'OPERATIONAL', 'geometry': {'location': {'lat': -21.35740699999999, 'lng': 55.7528137}, 'viewport': {'northeast': {'lat': -21.35611936970849, 'lng': 55.75413818029151}, 'southwest': {'lat': -21.3588173302915, 'lng': 55.75144021970851}}}, 'icon': 'https://maps.gstatic.com/mapfiles/place_api/icons/v1/png_71/lodging-71.png', 'name': 'Ferme Auberge Le Ti Planteur', 'photos': [{'height': 3000, 'html_attributions': ['<a href=\"https://maps.google.com/maps/contrib/116741360165653768187\">MOUNY-LATCHIMY MARATCHIA CHRISTINE</a>'], 'photo_reference': 'ATtYBwJG58X1RTDEhJCtfR_dAeQjHpW_Mc1221CEQzEx2I8crVEeGTHmoIRuR74yR52wZ3preI4yl7ojLby-C0RK_GP7zBFQcx80FZsCplsYaQPA6Bn9gZRiYT9ssjXmGDxU0b8FeVJsR6rOvvOI7jXVVnHjhbL3WXr8mgjnVY9RQ2zaO_Mm', 'width': 4000}], 'place_id': 'ChIJu4hUemMTeCERO3k_uxgcYIc', 'plus_code': {'compound_code': 'JQV3+24 Saint-Philippe, Réunion', 'global_code': '5HCQJQV3+24'}, 'rating': 4.6, 'reference': 'ChIJu4hUemMTeCERO3k_uxgcYIc', 'scope': 'GOOGLE', 'types': ['lodging', 'point_of_interest', 'establishment'], 'user_ratings_total': 13, 'vicinity': 'Saint-Philippe'}, {'business_status': 'OPERATIONAL', 'geometry': {'location': {'lat': -21.3651803, 'lng': 55.7523195}, 'viewport': {'northeast': {'lat': -21.3638759197085, 'lng': 55.7537087302915}, 'southwest': {'lat': -21.3665738802915, 'lng': 55.7510107697085}}}, 'icon': 'https://maps.gstatic.com/mapfiles/place_api/icons/v1/png_71/lodging-71.png', 'name': 'Le Vacoa', 'place_id': 'ChIJPygj7QMTeCER701twFKqGuU', 'plus_code': {'compound_code': 'JQM2+WW Saint-Philippe, Réunion', 'global_code': '5HCQJQM2+WW'}, 'rating': 3.5, 'reference': 'ChIJPygj7QMTeCER701twFKqGuU', 'scope': 'GOOGLE', 'types': ['lodging', 'point_of_interest', 'establishment'], 'user_ratings_total': 4, 'vicinity': 'Route Nationale 2 Mare Longue'}, {'business_status': 'OPERATIONAL', 'geometry': {'location': {'lat': -21.3606487, 'lng': 55.73627889999999}, 'viewport': {'northeast': {'lat': -21.35929691970849, 'lng': 55.7376299302915}, 'southwest': {'lat': -21.3619948802915, 'lng': 55.73493196970851}}}, 'icon': 'https://maps.gstatic.com/mapfiles/place_api/icons/v1/png_71/lodging-71.png', 'name': 'ness location saisonnière', 'opening_hours': {'open_now': True}, 'place_id': 'ChIJ_V53hDkTeCERLdwOTLx86N8', 'plus_code': {'compound_code': 'JPQP+PG Saint-Philippe, Réunion', 'global_code': '5HCQJPQP+PG'}, 'reference': 'ChIJ_V53hDkTeCERLdwOTLx86N8', 'scope': 'GOOGLE', 'types': ['lodging', 'point_of_interest', 'establishment'], 'vicinity': '17 Chemin de Ceinture'}, {'business_status': 'OPERATIONAL', 'geometry': {'location': {'lat': -21.3692006, 'lng': 55.72794859999999}, 'viewport': {'northeast': {'lat': -21.3677839197085, 'lng': 55.72928803029149}, 'southwest': {'lat': -21.3704818802915, 'lng': 55.72659006970849}}}, 'icon': 'https://maps.gstatic.com/mapfiles/place_api/icons/v1/png_71/lodging-71.png', 'name': 'Les Embruns Du Baril', 'photos': [{'height': 3024, 'html_attributions': ['<a href=\"https://maps.google.com/maps/contrib/117360494132492130494\">Michal Fucik</a>'], 'photo_reference': 'ATtYBwL-N5UaGniDiERCfahWLjEasm5de2DOMQFCJBVEcnbefIFk-zPZt67JDtovZTtuPVDd4r2pzatpVdHKpXhopLhBgQ7pJgkfxs0TPkFeLQOoHmzqgZOuGRd2_amdRbMeKAElghcwzvaLxzGBQyJpCzwtlOrKLkcUvEFsCin5Csc-qpAV', 'width': 4032}], 'place_id': 'ChIJ7yVOeZATeCERQhQGF0si8PA', 'plus_code': {'compound_code': 'JPJH+85 Matouta, Réunion', 'global_code': '5HCQJPJH+85'}, 'rating': 3.8, 'reference': 'ChIJ7yVOeZATeCERQhQGF0si8PA', 'scope': 'GOOGLE', 'types': ['lodging', 'restaurant', 'food', 'point_of_interest', 'establishment'], 'user_ratings_total': 55, 'vicinity': 'Réunion'}, {'business_status': 'OPERATIONAL', 'geometry': {'location': {'lat': -21.3680014, 'lng': 55.7273305}, 'viewport': {'northeast': {'lat': -21.3667229697085, 'lng': 55.7281891302915}, 'southwest': {'lat': -21.3694209302915, 'lng': 55.7254911697085}}}, 'icon': 'https://maps.gstatic.com/mapfiles/place_api/icons/v1/png_71/lodging-71.png', 'name': 'Four a Pain', 'photos': [{'height': 3024, 'html_attributions': ['<a href=\"https://maps.google.com/maps/contrib/100016507240313719441\">Casa Artur</a>'], 'photo_reference': 'ATtYBwIwzwqCuoBxMrMMXUBkIl0D0uzhngOUueYe3a93NPIrXjEIwayUx5X4QDJES546WvS9SsjoflqjDFfMlkRuAXNvi9j2aG_4_2GTtMVlkdeJIZSOWPshOQJK3haxibecYfDeUc0aGZgEiWZH6uFZvH4OeXBQkzlQxqm_MYUwP927UM-T', 'width': 4032}], 'place_id': 'ChIJeRK7iqYTeCERxlTMVwAz9zg', 'plus_code': {'compound_code': 'JPJG+QW Matouta, Réunion', 'global_code': '5HCQJPJG+QW'}, 'rating': 5, 'reference': 'ChIJeRK7iqYTeCERxlTMVwAz9zg', 'scope': 'GOOGLE', 'types': ['lodging', 'point_of_interest', 'establishment'], 'user_ratings_total': 7, 'vicinity': '2 Chemin Paul Hoareau'}, {'business_status': 'OPERATIONAL', 'geometry': {'location': {'lat': -21.3262377, 'lng': 55.8003209}, 'viewport': {'northeast': {'lat': -21.3248824697085, 'lng': 55.80170303029149}, 'southwest': {'lat': -21.3275804302915, 'lng': 55.7990050697085}}}, 'icon': 'https://maps.gstatic.com/mapfiles/place_api/icons/v1/png_71/lodging-71.png', 'name': 'Villa Parfum de vanille', 'place_id': 'ChIJg_YdEvFreCERRiXJX4LifwU', 'plus_code': {'compound_code': 'MRF2+G4 Saint-Philippe, Réunion', 'global_code': '5HCQMRF2+G4'}, 'rating': 1, 'reference': 'ChIJg_YdEvFreCERRiXJX4LifwU', 'scope': 'GOOGLE', 'types': ['lodging', 'point_of_interest', 'establishment'], 'user_ratings_total': 1, 'vicinity': '2C Trinité RN2 974'}], 'status': 'OK'}\n"
     ]
    }
   ],
   "source": [
    "print(url_lists)"
   ]
  },
  {
   "cell_type": "code",
   "execution_count": null,
   "metadata": {},
   "outputs": [],
   "source": []
  },
  {
   "cell_type": "code",
   "execution_count": 12,
   "metadata": {},
   "outputs": [
    {
     "data": {
      "text/html": [
       "<div>\n",
       "<style scoped>\n",
       "    .dataframe tbody tr th:only-of-type {\n",
       "        vertical-align: middle;\n",
       "    }\n",
       "\n",
       "    .dataframe tbody tr th {\n",
       "        vertical-align: top;\n",
       "    }\n",
       "\n",
       "    .dataframe thead th {\n",
       "        text-align: right;\n",
       "    }\n",
       "</style>\n",
       "<table border=\"1\" class=\"dataframe\">\n",
       "  <thead>\n",
       "    <tr style=\"text-align: right;\">\n",
       "      <th></th>\n",
       "      <th>Latitude</th>\n",
       "      <th>Longitude</th>\n",
       "    </tr>\n",
       "  </thead>\n",
       "  <tbody>\n",
       "    <tr>\n",
       "      <th>17</th>\n",
       "      <td>-34.4833</td>\n",
       "      <td>-54.3333</td>\n",
       "    </tr>\n",
       "    <tr>\n",
       "      <th>25</th>\n",
       "      <td>-21.3393</td>\n",
       "      <td>55.4781</td>\n",
       "    </tr>\n",
       "    <tr>\n",
       "      <th>82</th>\n",
       "      <td>-25.1667</td>\n",
       "      <td>45.0500</td>\n",
       "    </tr>\n",
       "    <tr>\n",
       "      <th>87</th>\n",
       "      <td>-21.3585</td>\n",
       "      <td>55.7679</td>\n",
       "    </tr>\n",
       "  </tbody>\n",
       "</table>\n",
       "</div>"
      ],
      "text/plain": [
       "    Latitude  Longitude\n",
       "17  -34.4833   -54.3333\n",
       "25  -21.3393    55.4781\n",
       "82  -25.1667    45.0500\n",
       "87  -21.3585    55.7679"
      ]
     },
     "execution_count": 12,
     "metadata": {},
     "output_type": "execute_result"
    }
   ],
   "source": [
    "# NOTE: Do not change any of the code in this cell\n",
    "\n",
    "# Using the template add the hotel marks to the heatmap\n",
    "info_box_template = \"\"\"\n",
    "<dl>\n",
    "<dt>Name</dt><dd>{Hotel Name}</dd>\n",
    "<dt>City</dt><dd>{City}</dd>\n",
    "<dt>Country</dt><dd>{Country}</dd>\n",
    "</dl>\n",
    "\"\"\"\n",
    "# Store the DataFrame Row\n",
    "# NOTE: be sure to update with your DataFrame name\n",
    "hotel_name = [info_box_template.format(**row) for index, row in hotel_df.iterrows()]\n",
    "locations = hotel_df[[\"Latitude\", \"Longitude\"]]\n"
   ]
  },
  {
   "cell_type": "code",
   "execution_count": 15,
   "metadata": {
    "scrolled": true
   },
   "outputs": [
    {
     "data": {
      "application/vnd.jupyter.widget-view+json": {
       "model_id": "c585ab5848044a1cb4634e5659a7bf6f",
       "version_major": 2,
       "version_minor": 0
      },
      "text/plain": [
       "Figure(layout=FigureLayout(height='420px'))"
      ]
     },
     "metadata": {},
     "output_type": "display_data"
    }
   ],
   "source": [
    "# Add marker layer ontop of heat map\n",
    "marker_layer=gmaps.marker_layer(locations,info_box_content=hotel_name)\n",
    "fig=gmaps.figure()\n",
    "fig.add_layer(marker_layer)\n",
    "\n",
    "# Display figure\n",
    "fig"
   ]
  },
  {
   "cell_type": "code",
   "execution_count": null,
   "metadata": {},
   "outputs": [],
   "source": []
  }
 ],
 "metadata": {
  "kernelspec": {
   "display_name": "Python 3",
   "language": "python",
   "name": "python3"
  },
  "language_info": {
   "codemirror_mode": {
    "name": "ipython",
    "version": 3
   },
   "file_extension": ".py",
   "mimetype": "text/x-python",
   "name": "python",
   "nbconvert_exporter": "python",
   "pygments_lexer": "ipython3",
   "version": "3.8.5"
  },
  "latex_envs": {
   "LaTeX_envs_menu_present": true,
   "autoclose": false,
   "autocomplete": true,
   "bibliofile": "biblio.bib",
   "cite_by": "apalike",
   "current_citInitial": 1,
   "eqLabelWithNumbers": true,
   "eqNumInitial": 1,
   "hotkeys": {
    "equation": "Ctrl-E",
    "itemize": "Ctrl-I"
   },
   "labels_anchors": false,
   "latex_user_defs": false,
   "report_style_numbering": false,
   "user_envs_cfg": false
  }
 },
 "nbformat": 4,
 "nbformat_minor": 4
}
